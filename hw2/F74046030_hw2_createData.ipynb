{
 "cells": [
  {
   "cell_type": "markdown",
   "metadata": {},
   "source": [
    "# hw2 decision tree\n",
    "因為長年寂寞，所以這次作業決定利用desision tree來嘗試實作一個根據自己的標準來評選女孩的個人擇偶標準預測器。首先使用create_data檔案來隨機產生範圍內的2000名女孩簡單個人資料與數據，再利用這些資料分別給每一個女孩一個分數，最後根據這個分數來判斷擁有這些條件的女生會不會在我的守備範圍之內。建立起這樣的資料之後，再把女生的資料丟進decision tree，預測看看結果和一開始建立的結果會不會差很多。"
   ]
  },
  {
   "cell_type": "markdown",
   "metadata": {},
   "source": [
    "## import packages"
   ]
  },
  {
   "cell_type": "code",
   "execution_count": 1,
   "metadata": {},
   "outputs": [],
   "source": [
    "import random\n",
    "import csv"
   ]
  },
  {
   "cell_type": "markdown",
   "metadata": {},
   "source": [
    "## create data\n",
    "產生在範圍內的隨機資料。\n",
    "總共選擇了五種資料當作特徵，分別是身高、體重、年齡、月收入，還有cup。\n",
    "身高的範圍選定在140~170公分。\n",
    "體重的範圍是30~70公斤。\n",
    "月收入的範圍在20000~80000之間，以千元為單位隨機產生。\n",
    "年齡選在12~40歲，為了避免犯罪所以12歲以下就暫時先不考慮了。\n",
    "cup根據出現的機率，決定把a~f都納入資料。f以後的大小出現的機率就比較小一些，所以在這裡決定先不考慮。\n",
    "原本各項數據出現的機率應該要是不太一樣的，例如一個女生體重只有30公斤的機率應該會比體重40公斤出現的機率還要小。應該。但是這次為了簡化問題，就決定先把資料都設計成隨機產生。因此同一個特徵之中每一種數據出現的機率都會是一樣的。\n",
    "\n",
    "分數的計算是將各項特徵再分成幾個區間，並根據我個人的喜好來為各個區間的數據給分數。畢竟是我的擇偶標準。例如將身高的資料分為140~150公分5分、150~160公分10分、160~170公分15分。另外再將每一個特徵的分數乘上一個權重，用這個權重來簡單的代表這一項特徵對於我來說的重要程度。例如身高和體重的權重都只有1，表示我並不是一個外貌協會的傢伙。而月收入的權重則給到3。這是一定要的啦。\n",
    "五項特徵的權重分別是身高 * 1，體重 * 1，cup * 2，月收 * 3，年齡 * 3。看看最後descition tree訓練出來的特徵重要程度會不會符合我們一開始這樣的設定。\n",
    "\n",
    "最後把所有分數再分類成兩類。分數在一半的109分以上分類到喜歡，而109分以下的就歸類到不喜歡。"
   ]
  },
  {
   "cell_type": "code",
   "execution_count": 3,
   "metadata": {},
   "outputs": [],
   "source": [
    "height = ['height']\n",
    "weight = ['weight']\n",
    "age = ['age']\n",
    "cup = ['cup']\n",
    "income = ['income']\n",
    "score = ['score']\n",
    "suki = ['suki']\n",
    "cur_score = 0\n",
    "\n",
    "for i in range(2000):\n",
    "    cur_score = 0\n",
    "    height.append(random.randrange(140, 170))\n",
    "    if height[-1] <= 150 :\n",
    "        cur_score += 5*1\n",
    "    elif height[-1] <= 160 : \n",
    "        cur_score += 10*1\n",
    "    elif height[-1] <= 170 :\n",
    "        cur_score += 15*1\n",
    "        \n",
    "    weight.append(random.randrange(30, 70))\n",
    "    if weight[-1] <= 40 :\n",
    "        cur_score += 5*1\n",
    "    elif weight[-1] <= 50 :\n",
    "        cur_score += 10*1\n",
    "    elif weight[-1] <= 60 :\n",
    "        cur_score += 15*1\n",
    "    elif weight[-1] <= 70 :\n",
    "        cur_score += 3*1\n",
    "        \n",
    "    cup.append(random.choice('abcdef'))\n",
    "    if cup[-1] == 'a':\n",
    "        cur_score += 3*2\n",
    "    elif cup[-1] == 'b':\n",
    "        cur_score += 6*2\n",
    "    elif cup[-1] == 'c':\n",
    "        cur_score += 9*2\n",
    "    elif cup[-1] == 'd':\n",
    "        cur_score += 12*2\n",
    "    elif cup[-1] == 'e':\n",
    "        cur_score += 15*2\n",
    "    elif cup[-1] == 'f':\n",
    "        cur_score += 18*2\n",
    "    \n",
    "    income.append(random.randrange(20000,80000,1000))\n",
    "    if income[-1] <= 30000:\n",
    "        cur_score += 3*3\n",
    "    elif income[-1] <= 40000:\n",
    "        cur_score += 6*3\n",
    "    elif income[-1] <= 50000:\n",
    "        cur_score += 9*3\n",
    "    elif income[-1] <= 60000:\n",
    "        cur_score += 12*3\n",
    "    elif income[-1] <= 70000:\n",
    "        cur_score += 15*3\n",
    "    elif income[-1] <= 80000:\n",
    "        cur_score += 18*3\n",
    "    \n",
    "    age.append(random.randrange(12, 40))\n",
    "    if age[-1] == 12:\n",
    "        cur_score += 20*3\n",
    "    elif age[-1] <= 20:\n",
    "        cur_score += 15*3\n",
    "    elif age[-1] <= 30:\n",
    "        cur_score += 10*3\n",
    "    elif age[-1] <= 40:\n",
    "        cur_score += 5*3\n",
    "     \n",
    "    score.append(cur_score)\n",
    "    if cur_score < 109:\n",
    "        suki.append(0)\n",
    "    elif cur_score < 180:\n",
    "        suki.append(1)\n",
    "\n",
    "    "
   ]
  },
  {
   "cell_type": "markdown",
   "metadata": {},
   "source": [
    "## save data\n",
    "把建立起來的資料存到csv檔案，準備作為給decision tree使用的訓練資料。"
   ]
  },
  {
   "cell_type": "code",
   "execution_count": 4,
   "metadata": {},
   "outputs": [],
   "source": [
    "rows = zip(height, weight, age, cup, income, score, suki)\n",
    "newfilePath = \"./data/DT_data.csv\"\n",
    "with open(newfilePath, \"w\", newline='') as f:\n",
    "    writer = csv.writer(f)\n",
    "    for row in rows:\n",
    "        writer.writerow(row)"
   ]
  }
 ],
 "metadata": {
  "kernelspec": {
   "display_name": "Python 3",
   "language": "python",
   "name": "python3"
  },
  "language_info": {
   "codemirror_mode": {
    "name": "ipython",
    "version": 3
   },
   "file_extension": ".py",
   "mimetype": "text/x-python",
   "name": "python",
   "nbconvert_exporter": "python",
   "pygments_lexer": "ipython3",
   "version": "3.6.8"
  }
 },
 "nbformat": 4,
 "nbformat_minor": 2
}
