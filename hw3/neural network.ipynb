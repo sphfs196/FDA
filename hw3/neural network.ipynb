{
 "cells": [
  {
   "cell_type": "code",
   "execution_count": 1,
   "metadata": {},
   "outputs": [],
   "source": [
    "# Data Manupulation\n",
    "import numpy as np\n",
    "import pandas as pd\n",
    "\n",
    "# Techinical Indicators\n",
    "import talib as ta\n",
    "\n",
    "# Plotting graphs\n",
    "import matplotlib.pyplot as plt\n",
    "\n",
    "# Machine learning\n",
    "from sklearn.linear_model import LogisticRegression\n",
    "from sklearn import metrics\n",
    "from sklearn import svm,preprocessing \n",
    "from sklearn.metrics import classification_report"
   ]
  },
  {
   "cell_type": "code",
   "execution_count": 2,
   "metadata": {},
   "outputs": [
    {
     "name": "stderr",
     "output_type": "stream",
     "text": [
      "Using TensorFlow backend.\n"
     ]
    }
   ],
   "source": [
    "from keras import models, layers, optimizers, regularizers\n",
    "import tensorflow as tf\n",
    "from tqdm import tqdm\n"
   ]
  },
  {
   "cell_type": "code",
   "execution_count": 3,
   "metadata": {},
   "outputs": [],
   "source": [
    "file_name = 'training_data.csv'\n",
    "#df = pd.read_csv(file_name, sep=',', index_col=0)\n",
    "df = pd.read_csv(file_name, index_col=0)\n",
    "'''\n",
    "df['S_10'] = df['Close Price'].rolling(window=10).mean()\n",
    "df['Corr'] = df['Close Price'].rolling(window=10).corr(df['S_10'])\n",
    "df['RSI'] = ta.RSI(np.array(df['Close Price']), timeperiod =10)\n",
    "df['Open-Close'] = df['Open Price'] - df['Close Price'].shift(1)\n",
    "df['Open-Open'] = df['Open Price'] - df['Open Price'].shift(1)\n",
    "df = df.dropna()\n",
    "X_train = df.iloc[:,:10]\n",
    "'''\n",
    "X_train = df\n",
    "# y=1 : 明天的close > 今天的close(上漲), y=-1 : 明天的close < 今天的close(下跌)\n",
    "y_train = np.where (df['Close Price'].shift(-1) > df['Close Price'],1,-1)"
   ]
  },
  {
   "cell_type": "code",
   "execution_count": 4,
   "metadata": {},
   "outputs": [],
   "source": [
    "file_name = 'testing_data.csv'\n",
    "#df_test = pd.read_csv(file_name, sep=',', index_col=0)\n",
    "df_test = pd.read_csv(file_name, index_col=0)\n",
    "'''\n",
    "df_test['S_10'] = df_test['Close Price'].rolling(window=10).mean()\n",
    "df_test['Corr'] = df_test['Close Price'].rolling(window=10).corr(df_test['S_10'])\n",
    "df_test['RSI'] = ta.RSI(np.array(df_test['Close Price']), timeperiod =10)\n",
    "df_test['Open-Close'] = df_test['Open Price'] - df_test['Close Price'].shift(1)\n",
    "df_test['Open-Open'] = df_test['Open Price'] - df_test['Open Price'].shift(1)\n",
    "df_test = df_test.dropna()\n",
    "X_test = df_test.iloc[:,:10]\n",
    "'''\n",
    "X_test = df_test\n",
    "# y=1 : 明天的close > 今天的close(上漲), y=-1 : 明天的close < 今天的close(下跌)\n",
    "y_test = np.where (df_test['Close Price'].shift(-1) > df_test['Close Price'],1,-1)\n"
   ]
  },
  {
   "cell_type": "code",
   "execution_count": 5,
   "metadata": {},
   "outputs": [],
   "source": [
    "# create nn model"
   ]
  },
  {
   "cell_type": "code",
   "execution_count": 6,
   "metadata": {},
   "outputs": [],
   "source": [
    "hidden_units = 10\n",
    "activation = 'relu'  # activation function for hidden layer\n",
    "lr = 0.1\n",
    "batch_size = 32      # how many samples to use for each gradient descent update"
   ]
  },
  {
   "cell_type": "code",
   "execution_count": 7,
   "metadata": {},
   "outputs": [
    {
     "name": "stdout",
     "output_type": "stream",
     "text": [
      "WARNING:tensorflow:From C:\\Users\\Mimori\\Anaconda3\\envs\\FDA\\lib\\site-packages\\tensorflow\\python\\framework\\op_def_library.py:263: colocate_with (from tensorflow.python.framework.ops) is deprecated and will be removed in a future version.\n",
      "Instructions for updating:\n",
      "Colocations handled automatically by placer.\n"
     ]
    }
   ],
   "source": [
    "# create a sequential model\n",
    "model = models.Sequential()\n",
    "\n",
    "# add the hidden layer\n",
    "model.add(layers.Dense(input_dim=5,\n",
    "                       units=hidden_units, \n",
    "                       activation=activation))\n",
    "\n",
    "# add the output layer\n",
    "model.add(layers.Dense(input_dim=hidden_units,\n",
    "                       units=1,\n",
    "                       activation='sigmoid'))\n",
    "\n",
    "# define our loss function and optimizer\n",
    "model.compile(loss='binary_crossentropy',\n",
    "              # Adam is a kind of gradient descent\n",
    "              optimizer=optimizers.Adam(lr=lr),\n",
    "              metrics=['accuracy'])"
   ]
  },
  {
   "cell_type": "code",
   "execution_count": 8,
   "metadata": {},
   "outputs": [
    {
     "name": "stdout",
     "output_type": "stream",
     "text": [
      "WARNING:tensorflow:From C:\\Users\\Mimori\\Anaconda3\\envs\\FDA\\lib\\site-packages\\tensorflow\\python\\ops\\math_ops.py:3066: to_int32 (from tensorflow.python.ops.math_ops) is deprecated and will be removed in a future version.\n",
      "Instructions for updating:\n",
      "Use tf.cast instead.\n",
      "Epoch 1/10\n",
      "2264/2264 [==============================] - ETA: 12s - loss: 17.9352 - acc: 0.437 - ETA: 0s - loss: 14.2073 - acc: 0.554 - 0s 107us/step - loss: 14.4777 - acc: 0.5459\n",
      "Epoch 2/10\n",
      "2264/2264 [==============================] - ETA: 0s - loss: 8.9676 - acc: 0.718 - ETA: 0s - loss: 14.6072 - acc: 0.54 - 0s 33us/step - loss: 14.4777 - acc: 0.5459\n",
      "Epoch 3/10\n",
      "2264/2264 [==============================] - ETA: 0s - loss: 15.9424 - acc: 0.50 - ETA: 0s - loss: 14.3814 - acc: 0.54 - 0s 28us/step - loss: 14.4777 - acc: 0.5459\n",
      "Epoch 4/10\n",
      "2264/2264 [==============================] - ETA: 0s - loss: 19.9280 - acc: 0.37 - ETA: 0s - loss: 14.7768 - acc: 0.53 - 0s 32us/step - loss: 14.4777 - acc: 0.5459\n",
      "Epoch 5/10\n",
      "2264/2264 [==============================] - ETA: 0s - loss: 13.9496 - acc: 0.56 - ETA: 0s - loss: 14.6816 - acc: 0.53 - 0s 33us/step - loss: 14.4777 - acc: 0.5459\n",
      "Epoch 6/10\n",
      "2264/2264 [==============================] - ETA: 0s - loss: 17.9352 - acc: 0.43 - ETA: 0s - loss: 14.4286 - acc: 0.54 - 0s 30us/step - loss: 14.4777 - acc: 0.5459\n",
      "Epoch 7/10\n",
      "2264/2264 [==============================] - ETA: 0s - loss: 9.9640 - acc: 0.687 - ETA: 0s - loss: 14.2932 - acc: 0.55 - 0s 29us/step - loss: 14.4777 - acc: 0.5459\n",
      "Epoch 8/10\n",
      "2264/2264 [==============================] - ETA: 0s - loss: 10.9604 - acc: 0.65 - ETA: 0s - loss: 14.4685 - acc: 0.54 - 0s 37us/step - loss: 14.4777 - acc: 0.5459\n",
      "Epoch 9/10\n",
      "2264/2264 [==============================] - ETA: 0s - loss: 12.9532 - acc: 0.59 - ETA: 0s - loss: 14.2273 - acc: 0.55 - 0s 28us/step - loss: 14.4777 - acc: 0.5459\n",
      "Epoch 10/10\n",
      "2264/2264 [==============================] - ETA: 0s - loss: 14.9460 - acc: 0.53 - ETA: 0s - loss: 15.0705 - acc: 0.52 - 0s 38us/step - loss: 14.4777 - acc: 0.5459\n",
      "2264/2264 [==============================] - ETA:  - 0s 31us/step\n",
      "252/252 [==============================] - ETA:  - 0s 24us/step\n",
      "Training accuracy: 0.5459363958650258\n",
      "Testing accuracy: 0.5198412703143226\n"
     ]
    },
    {
     "data": {
      "image/png": "[encoded data removed]",
      "text/plain": [
       "<Figure size 432x288 with 1 Axes>"
      ]
     },
     "metadata": {
      "needs_background": "light"
     },
     "output_type": "display_data"
    }
   ],
   "source": [
    "# train the parameters\n",
    "history = model.fit(X_train, y_train, epochs=10, batch_size=batch_size)\n",
    "\n",
    "# evaluate accuracy\n",
    "train_acc = model.evaluate(X_train, y_train, batch_size=32)[1]\n",
    "test_acc = model.evaluate(X_test, y_test, batch_size=32)[1]\n",
    "print('Training accuracy: %s' % train_acc)\n",
    "print('Testing accuracy: %s' % test_acc)\n",
    "\n",
    "losses = history.history['loss']\n",
    "plt.plot(range(len(losses)), losses, 'r')\n",
    "plt.show()"
   ]
  },
  {
   "cell_type": "code",
   "execution_count": 9,
   "metadata": {},
   "outputs": [
    {
     "name": "stdout",
     "output_type": "stream",
     "text": [
      "Training accuracy: 0.5459363958650258\n",
      "Testing accuracy: 0.5198412703143226\n"
     ]
    }
   ],
   "source": [
    "print('Training accuracy: %s' % train_acc)\n",
    "print('Testing accuracy: %s' % test_acc)"
   ]
  }
 ],
 "metadata": {
  "kernelspec": {
   "display_name": "Python 3",
   "language": "python",
   "name": "python3"
  },
  "language_info": {
   "codemirror_mode": {
    "name": "ipython",
    "version": 3
   },
   "file_extension": ".py",
   "mimetype": "text/x-python",
   "name": "python",
   "nbconvert_exporter": "python",
   "pygments_lexer": "ipython3",
   "version": "3.6.8"
  }
 },
 "nbformat": 4,
 "nbformat_minor": 2
}
