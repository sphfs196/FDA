{
 "cells": [
  {
   "cell_type": "code",
   "execution_count": 1,
   "metadata": {},
   "outputs": [
    {
     "name": "stderr",
     "output_type": "stream",
     "text": [
      "Using TensorFlow backend.\n"
     ]
    }
   ],
   "source": [
    "# Data Manupulation\n",
    "import numpy as np\n",
    "import pandas as pd\n",
    "\n",
    "# Techinical Indicators\n",
    "import talib as ta\n",
    "\n",
    "# Plotting graphs\n",
    "import matplotlib.pyplot as plt\n",
    "\n",
    "# Machine learning\n",
    "from sklearn import metrics\n",
    "from sklearn.model_selection import cross_validate\n",
    "from sklearn.metrics import classification_report\n",
    "\n",
    "# logistic regression\n",
    "from sklearn.linear_model import LogisticRegression\n",
    "\n",
    "# svm\n",
    "from sklearn import svm, preprocessing\n",
    "\n",
    "# neural network\n",
    "from keras import models, layers, optimizers, regularizers\n",
    "import tensorflow as tf\n",
    "from tqdm import tqdm"
   ]
  },
  {
   "cell_type": "markdown",
   "metadata": {},
   "source": [
    "## read data\n",
    "\n",
    "把資料讀進來，稍微看一下\n"
   ]
  },
  {
   "cell_type": "code",
   "execution_count": 2,
   "metadata": {
    "scrolled": true
   },
   "outputs": [
    {
     "data": {
      "text/html": [
       "<div>\n",
       "<style scoped>\n",
       "    .dataframe tbody tr th:only-of-type {\n",
       "        vertical-align: middle;\n",
       "    }\n",
       "\n",
       "    .dataframe tbody tr th {\n",
       "        vertical-align: top;\n",
       "    }\n",
       "\n",
       "    .dataframe thead th {\n",
       "        text-align: right;\n",
       "    }\n",
       "</style>\n",
       "<table border=\"1\" class=\"dataframe\">\n",
       "  <thead>\n",
       "    <tr style=\"text-align: right;\">\n",
       "      <th></th>\n",
       "      <th>Date</th>\n",
       "      <th>Open Price</th>\n",
       "      <th>Close Price</th>\n",
       "      <th>High Price</th>\n",
       "      <th>Low Price</th>\n",
       "      <th>Volume</th>\n",
       "    </tr>\n",
       "  </thead>\n",
       "  <tbody>\n",
       "    <tr>\n",
       "      <th>0</th>\n",
       "      <td>02-Jan-2009</td>\n",
       "      <td>902.99</td>\n",
       "      <td>931.80</td>\n",
       "      <td>934.73</td>\n",
       "      <td>899.35</td>\n",
       "      <td>4048270080</td>\n",
       "    </tr>\n",
       "    <tr>\n",
       "      <th>1</th>\n",
       "      <td>05-Jan-2009</td>\n",
       "      <td>929.17</td>\n",
       "      <td>927.45</td>\n",
       "      <td>936.63</td>\n",
       "      <td>919.53</td>\n",
       "      <td>5413910016</td>\n",
       "    </tr>\n",
       "    <tr>\n",
       "      <th>2</th>\n",
       "      <td>06-Jan-2009</td>\n",
       "      <td>931.17</td>\n",
       "      <td>934.70</td>\n",
       "      <td>943.85</td>\n",
       "      <td>927.28</td>\n",
       "      <td>5392620032</td>\n",
       "    </tr>\n",
       "    <tr>\n",
       "      <th>3</th>\n",
       "      <td>07-Jan-2009</td>\n",
       "      <td>927.45</td>\n",
       "      <td>906.65</td>\n",
       "      <td>927.45</td>\n",
       "      <td>902.37</td>\n",
       "      <td>4704940032</td>\n",
       "    </tr>\n",
       "    <tr>\n",
       "      <th>4</th>\n",
       "      <td>08-Jan-2009</td>\n",
       "      <td>905.73</td>\n",
       "      <td>909.73</td>\n",
       "      <td>910.00</td>\n",
       "      <td>896.81</td>\n",
       "      <td>4991549952</td>\n",
       "    </tr>\n",
       "  </tbody>\n",
       "</table>\n",
       "</div>"
      ],
      "text/plain": [
       "          Date  Open Price  Close Price  High Price  Low Price      Volume\n",
       "0  02-Jan-2009      902.99       931.80      934.73     899.35  4048270080\n",
       "1  05-Jan-2009      929.17       927.45      936.63     919.53  5413910016\n",
       "2  06-Jan-2009      931.17       934.70      943.85     927.28  5392620032\n",
       "3  07-Jan-2009      927.45       906.65      927.45     902.37  4704940032\n",
       "4  08-Jan-2009      905.73       909.73      910.00     896.81  4991549952"
      ]
     },
     "execution_count": 2,
     "metadata": {},
     "output_type": "execute_result"
    }
   ],
   "source": [
    "# data\n",
    "data = pd.read_csv('training_data.csv')\n",
    "data.head()"
   ]
  },
  {
   "cell_type": "markdown",
   "metadata": {},
   "source": [
    "利用收盤價和日期畫關係圖，可以看到趨勢是上升的。"
   ]
  },
  {
   "cell_type": "code",
   "execution_count": 3,
   "metadata": {},
   "outputs": [
    {
     "name": "stderr",
     "output_type": "stream",
     "text": [
      "C:\\Users\\Mimori\\Anaconda3\\envs\\FDA\\lib\\site-packages\\pandas\\plotting\\_converter.py:129: FutureWarning: Using an implicitly registered datetime converter for a matplotlib plotting method. The converter was registered by pandas on import. Future versions of pandas will require you to explicitly register matplotlib converters.\n",
      "\n",
      "To register the converters:\n",
      "\t>>> from pandas.plotting import register_matplotlib_converters\n",
      "\t>>> register_matplotlib_converters()\n",
      "  warnings.warn(msg, FutureWarning)\n"
     ]
    },
    {
     "data": {
      "image/png": "[encoded data removed]",
      "text/plain": [
       "<Figure size 432x288 with 1 Axes>"
      ]
     },
     "metadata": {
      "needs_background": "light"
     },
     "output_type": "display_data"
    }
   ],
   "source": [
    "dates = [pd.Timestamp(date) for date in data['Date']]\n",
    "closes = np.array(data['Close Price'],dtype='float')\n",
    "plt.scatter(dates, closes)\n",
    "plt.show()"
   ]
  },
  {
   "cell_type": "markdown",
   "metadata": {},
   "source": [
    "## data prepareing\n",
    "\n",
    "一開始先簡單觀察一下資料，然後準備用原本的資料丟進去模型跑跑看預測上升下降的準確率如何"
   ]
  },
  {
   "cell_type": "code",
   "execution_count": 4,
   "metadata": {},
   "outputs": [],
   "source": [
    "file_name = 'training_data.csv'\n",
    "df = pd.read_csv(file_name, index_col=0)\n",
    "\n",
    "df = df.dropna()\n",
    "x_train = df\n",
    "y_train = np.where (df['Close Price'].shift(-1) > df['Close Price'],1,-1)"
   ]
  },
  {
   "cell_type": "code",
   "execution_count": 5,
   "metadata": {},
   "outputs": [
    {
     "data": {
      "text/html": [
       "<div>\n",
       "<style scoped>\n",
       "    .dataframe tbody tr th:only-of-type {\n",
       "        vertical-align: middle;\n",
       "    }\n",
       "\n",
       "    .dataframe tbody tr th {\n",
       "        vertical-align: top;\n",
       "    }\n",
       "\n",
       "    .dataframe thead th {\n",
       "        text-align: right;\n",
       "    }\n",
       "</style>\n",
       "<table border=\"1\" class=\"dataframe\">\n",
       "  <thead>\n",
       "    <tr style=\"text-align: right;\">\n",
       "      <th></th>\n",
       "      <th>Open Price</th>\n",
       "      <th>Close Price</th>\n",
       "      <th>High Price</th>\n",
       "      <th>Low Price</th>\n",
       "      <th>Volume</th>\n",
       "    </tr>\n",
       "    <tr>\n",
       "      <th>Date</th>\n",
       "      <th></th>\n",
       "      <th></th>\n",
       "      <th></th>\n",
       "      <th></th>\n",
       "      <th></th>\n",
       "    </tr>\n",
       "  </thead>\n",
       "  <tbody>\n",
       "    <tr>\n",
       "      <th>02-Jan-2009</th>\n",
       "      <td>902.99</td>\n",
       "      <td>931.80</td>\n",
       "      <td>934.73</td>\n",
       "      <td>899.35</td>\n",
       "      <td>4048270080</td>\n",
       "    </tr>\n",
       "    <tr>\n",
       "      <th>05-Jan-2009</th>\n",
       "      <td>929.17</td>\n",
       "      <td>927.45</td>\n",
       "      <td>936.63</td>\n",
       "      <td>919.53</td>\n",
       "      <td>5413910016</td>\n",
       "    </tr>\n",
       "    <tr>\n",
       "      <th>06-Jan-2009</th>\n",
       "      <td>931.17</td>\n",
       "      <td>934.70</td>\n",
       "      <td>943.85</td>\n",
       "      <td>927.28</td>\n",
       "      <td>5392620032</td>\n",
       "    </tr>\n",
       "    <tr>\n",
       "      <th>07-Jan-2009</th>\n",
       "      <td>927.45</td>\n",
       "      <td>906.65</td>\n",
       "      <td>927.45</td>\n",
       "      <td>902.37</td>\n",
       "      <td>4704940032</td>\n",
       "    </tr>\n",
       "    <tr>\n",
       "      <th>08-Jan-2009</th>\n",
       "      <td>905.73</td>\n",
       "      <td>909.73</td>\n",
       "      <td>910.00</td>\n",
       "      <td>896.81</td>\n",
       "      <td>4991549952</td>\n",
       "    </tr>\n",
       "  </tbody>\n",
       "</table>\n",
       "</div>"
      ],
      "text/plain": [
       "             Open Price  Close Price  High Price  Low Price      Volume\n",
       "Date                                                                   \n",
       "02-Jan-2009      902.99       931.80      934.73     899.35  4048270080\n",
       "05-Jan-2009      929.17       927.45      936.63     919.53  5413910016\n",
       "06-Jan-2009      931.17       934.70      943.85     927.28  5392620032\n",
       "07-Jan-2009      927.45       906.65      927.45     902.37  4704940032\n",
       "08-Jan-2009      905.73       909.73      910.00     896.81  4991549952"
      ]
     },
     "execution_count": 5,
     "metadata": {},
     "output_type": "execute_result"
    }
   ],
   "source": [
    "x_train.head()"
   ]
  },
  {
   "cell_type": "markdown",
   "metadata": {},
   "source": [
    "訓練資料中有1028個-1(下降)，1236個1(上升)"
   ]
  },
  {
   "cell_type": "code",
   "execution_count": 6,
   "metadata": {},
   "outputs": [
    {
     "data": {
      "text/plain": [
       "{-1: 1028, 1: 1236}"
      ]
     },
     "execution_count": 6,
     "metadata": {},
     "output_type": "execute_result"
    }
   ],
   "source": [
    "unique, counts = np.unique(y_train, return_counts=True)\n",
    "dict(zip(unique, counts))"
   ]
  },
  {
   "cell_type": "code",
   "execution_count": 7,
   "metadata": {},
   "outputs": [],
   "source": [
    "file_name = 'testing_data.csv'\n",
    "df_test = pd.read_csv(file_name, index_col=0)\n",
    "x_test = df_test\n",
    "y_test = np.where (df_test['Close Price'].shift(-1) > df_test['Close Price'],1,-1)"
   ]
  },
  {
   "cell_type": "code",
   "execution_count": 8,
   "metadata": {},
   "outputs": [
    {
     "data": {
      "text/html": [
       "<div>\n",
       "<style scoped>\n",
       "    .dataframe tbody tr th:only-of-type {\n",
       "        vertical-align: middle;\n",
       "    }\n",
       "\n",
       "    .dataframe tbody tr th {\n",
       "        vertical-align: top;\n",
       "    }\n",
       "\n",
       "    .dataframe thead th {\n",
       "        text-align: right;\n",
       "    }\n",
       "</style>\n",
       "<table border=\"1\" class=\"dataframe\">\n",
       "  <thead>\n",
       "    <tr style=\"text-align: right;\">\n",
       "      <th></th>\n",
       "      <th>Open Price</th>\n",
       "      <th>Close Price</th>\n",
       "      <th>High Price</th>\n",
       "      <th>Low Price</th>\n",
       "      <th>Volume</th>\n",
       "    </tr>\n",
       "    <tr>\n",
       "      <th>Date</th>\n",
       "      <th></th>\n",
       "      <th></th>\n",
       "      <th></th>\n",
       "      <th></th>\n",
       "      <th></th>\n",
       "    </tr>\n",
       "  </thead>\n",
       "  <tbody>\n",
       "    <tr>\n",
       "      <th>02-Jan-2018</th>\n",
       "      <td>2683.73</td>\n",
       "      <td>2695.81</td>\n",
       "      <td>2695.89</td>\n",
       "      <td>2682.36</td>\n",
       "      <td>1846463232</td>\n",
       "    </tr>\n",
       "    <tr>\n",
       "      <th>03-Jan-2018</th>\n",
       "      <td>2697.85</td>\n",
       "      <td>2713.06</td>\n",
       "      <td>2714.37</td>\n",
       "      <td>2697.77</td>\n",
       "      <td>2090595328</td>\n",
       "    </tr>\n",
       "    <tr>\n",
       "      <th>04-Jan-2018</th>\n",
       "      <td>2719.31</td>\n",
       "      <td>2723.99</td>\n",
       "      <td>2729.29</td>\n",
       "      <td>2719.07</td>\n",
       "      <td>2100767744</td>\n",
       "    </tr>\n",
       "    <tr>\n",
       "      <th>05-Jan-2018</th>\n",
       "      <td>2731.33</td>\n",
       "      <td>2743.15</td>\n",
       "      <td>2743.45</td>\n",
       "      <td>2727.92</td>\n",
       "      <td>1918869120</td>\n",
       "    </tr>\n",
       "    <tr>\n",
       "      <th>08-Jan-2018</th>\n",
       "      <td>2742.67</td>\n",
       "      <td>2747.71</td>\n",
       "      <td>2748.51</td>\n",
       "      <td>2737.60</td>\n",
       "      <td>1894823936</td>\n",
       "    </tr>\n",
       "  </tbody>\n",
       "</table>\n",
       "</div>"
      ],
      "text/plain": [
       "             Open Price  Close Price  High Price  Low Price      Volume\n",
       "Date                                                                   \n",
       "02-Jan-2018     2683.73      2695.81     2695.89    2682.36  1846463232\n",
       "03-Jan-2018     2697.85      2713.06     2714.37    2697.77  2090595328\n",
       "04-Jan-2018     2719.31      2723.99     2729.29    2719.07  2100767744\n",
       "05-Jan-2018     2731.33      2743.15     2743.45    2727.92  1918869120\n",
       "08-Jan-2018     2742.67      2747.71     2748.51    2737.60  1894823936"
      ]
     },
     "execution_count": 8,
     "metadata": {},
     "output_type": "execute_result"
    }
   ],
   "source": [
    "x_test.head()"
   ]
  },
  {
   "cell_type": "markdown",
   "metadata": {},
   "source": [
    "測試資料中有121個-1(下降)，131個1(上升)"
   ]
  },
  {
   "cell_type": "code",
   "execution_count": 9,
   "metadata": {},
   "outputs": [
    {
     "data": {
      "text/plain": [
       "{-1: 121, 1: 131}"
      ]
     },
     "execution_count": 9,
     "metadata": {},
     "output_type": "execute_result"
    }
   ],
   "source": [
    "unique, counts = np.unique(y_test, return_counts=True)\n",
    "dict(zip(unique, counts))"
   ]
  },
  {
   "cell_type": "markdown",
   "metadata": {},
   "source": [
    "## logistic regression\n",
    "\n",
    "首先試試看logistic regression，把前面準備好的資料x_train跟y_train丟進去。"
   ]
  },
  {
   "cell_type": "code",
   "execution_count": 10,
   "metadata": {},
   "outputs": [
    {
     "name": "stderr",
     "output_type": "stream",
     "text": [
      "C:\\Users\\Mimori\\Anaconda3\\envs\\FDA\\lib\\site-packages\\sklearn\\linear_model\\logistic.py:433: FutureWarning: Default solver will be changed to 'lbfgs' in 0.22. Specify a solver to silence this warning.\n",
      "  FutureWarning)\n"
     ]
    }
   ],
   "source": [
    "lg_model = LogisticRegression()\n",
    "lg_model = lg_model.fit(x_train,y_train)"
   ]
  },
  {
   "attachments": {},
   "cell_type": "markdown",
   "metadata": {},
   "source": [
    "印出模型係數 model.coef_"
   ]
  },
  {
   "cell_type": "code",
   "execution_count": 11,
   "metadata": {},
   "outputs": [
    {
     "data": {
      "text/html": [
       "<div>\n",
       "<style scoped>\n",
       "    .dataframe tbody tr th:only-of-type {\n",
       "        vertical-align: middle;\n",
       "    }\n",
       "\n",
       "    .dataframe tbody tr th {\n",
       "        vertical-align: top;\n",
       "    }\n",
       "\n",
       "    .dataframe thead th {\n",
       "        text-align: right;\n",
       "    }\n",
       "</style>\n",
       "<table border=\"1\" class=\"dataframe\">\n",
       "  <thead>\n",
       "    <tr style=\"text-align: right;\">\n",
       "      <th></th>\n",
       "      <th>0</th>\n",
       "      <th>1</th>\n",
       "    </tr>\n",
       "  </thead>\n",
       "  <tbody>\n",
       "    <tr>\n",
       "      <th>0</th>\n",
       "      <td>Open Price</td>\n",
       "      <td>[3.0723787994412094e-17]</td>\n",
       "    </tr>\n",
       "    <tr>\n",
       "      <th>1</th>\n",
       "      <td>Close Price</td>\n",
       "      <td>[3.048806635293544e-17]</td>\n",
       "    </tr>\n",
       "    <tr>\n",
       "      <th>2</th>\n",
       "      <td>High Price</td>\n",
       "      <td>[3.075972091600277e-17]</td>\n",
       "    </tr>\n",
       "    <tr>\n",
       "      <th>3</th>\n",
       "      <td>Low Price</td>\n",
       "      <td>[3.0469745364168135e-17]</td>\n",
       "    </tr>\n",
       "    <tr>\n",
       "      <th>4</th>\n",
       "      <td>Volume</td>\n",
       "      <td>[5.558556099677488e-11]</td>\n",
       "    </tr>\n",
       "  </tbody>\n",
       "</table>\n",
       "</div>"
      ],
      "text/plain": [
       "             0                         1\n",
       "0   Open Price  [3.0723787994412094e-17]\n",
       "1  Close Price   [3.048806635293544e-17]\n",
       "2   High Price   [3.075972091600277e-17]\n",
       "3    Low Price  [3.0469745364168135e-17]\n",
       "4       Volume   [5.558556099677488e-11]"
      ]
     },
     "execution_count": 11,
     "metadata": {},
     "output_type": "execute_result"
    }
   ],
   "source": [
    "pd.DataFrame(zip(x_train.columns, np.transpose(lg_model.coef_)))"
   ]
  },
  {
   "cell_type": "markdown",
   "metadata": {},
   "source": [
    "利用predict_proba函式來計算丟進x_test之後得到的y=1或y=-1的機率\n",
    "印出前20個來看一下結果\n",
    "\n",
    "右邊的機率代表的是預測y=1的機率\n",
    "左邊的機率代表的是預測y=-1的機率"
   ]
  },
  {
   "cell_type": "code",
   "execution_count": 12,
   "metadata": {},
   "outputs": [
    {
     "name": "stdout",
     "output_type": "stream",
     "text": [
      "[[0.47436333 0.52563667]\n",
      " [0.47098092 0.52901908]\n",
      " [0.47084004 0.52915996]\n",
      " [0.4733599  0.5266401 ]\n",
      " [0.4736931  0.5263069 ]\n",
      " [0.47282789 0.52717211]\n",
      " [0.47155887 0.52844113]\n",
      " [0.47253239 0.52746761]\n",
      " [0.47073402 0.52926598]\n",
      " [0.46487043 0.53512957]\n",
      " [0.4672659  0.5327341 ]\n",
      " [0.46934991 0.53065009]\n",
      " [0.46704718 0.53295282]\n",
      " [0.47101436 0.52898564]\n",
      " [0.47015851 0.52984149]\n",
      " [0.46682009 0.53317991]\n",
      " [0.46821626 0.53178374]\n",
      " [0.47003176 0.52996824]\n",
      " [0.47103893 0.52896107]\n",
      " [0.46753038 0.53246962]]\n",
      "0.5198412698412699\n"
     ]
    }
   ],
   "source": [
    "probability = lg_model.predict_proba(x_test)\n",
    "print(probability[:20])\n",
    "print(lg_model.score(x_test, y_test))"
   ]
  },
  {
   "cell_type": "code",
   "execution_count": 13,
   "metadata": {},
   "outputs": [
    {
     "name": "stdout",
     "output_type": "stream",
     "text": [
      "[1 1 1 1 1 1 1 1 1 1 1 1 1 1 1 1 1 1 1 1]\n"
     ]
    }
   ],
   "source": [
    "predicted = lg_model.predict(x_test)\n",
    "print(predicted[:20])"
   ]
  },
  {
   "attachments": {
    "image.png": {
     "image/png": "[encoded data removed]"
    }
   },
   "cell_type": "markdown",
   "metadata": {},
   "source": [
    "利用函式畫出confusion matrix，可以看到實際是-1，但預測是1的有121個、實際是1，預測也是1的有131個\n",
    "![image.png](attachment:image.png)"
   ]
  },
  {
   "cell_type": "code",
   "execution_count": 14,
   "metadata": {},
   "outputs": [
    {
     "name": "stdout",
     "output_type": "stream",
     "text": [
      "[[  0 121]\n",
      " [  0 131]]\n"
     ]
    }
   ],
   "source": [
    "print(metrics.confusion_matrix(y_test, predicted))"
   ]
  },
  {
   "cell_type": "markdown",
   "metadata": {},
   "source": [
    "利用測試資料幫模型算出來的預測準確率大約是0.52"
   ]
  },
  {
   "cell_type": "code",
   "execution_count": 15,
   "metadata": {},
   "outputs": [
    {
     "name": "stdout",
     "output_type": "stream",
     "text": [
      "0.5198412698412699\n"
     ]
    }
   ],
   "source": [
    "print(lg_model.score(x_test, y_test))"
   ]
  },
  {
   "cell_type": "markdown",
   "metadata": {},
   "source": [
    "讓模型根據前面預測出來的機率來猜測試資料的前20筆資料，可以看到因為猜測是1的機率都比較高，所以最後模型都猜1\n",
    "\n",
    "但把全部都印出來看以後發現，模型的每一個預測都是1，只能說看來我們這一次的模型訓練並沒有成功。\n",
    "\n",
    "logistic regression適合且只能處理二元的分類問題，所以在這一個條件上，是符合我們的要求的。但logistic regression處理的問題必須要是線性可分的問題，我猜可能是我們這次作業的資料不太算是線性可分的資料，所以才沒有辦法利用logistic regression做到效果好的分類。\n",
    "再來試試看SVM。"
   ]
  },
  {
   "cell_type": "markdown",
   "metadata": {},
   "source": [
    "## SVM"
   ]
  },
  {
   "cell_type": "markdown",
   "metadata": {},
   "source": [
    "svm有一些不一樣的kernel function，用來幫助資料轉換到高維度的面上。不同的kernel function有不同的使用時機，這裡選擇了三種來做測試，分別是polynomial, sigmoid, rdf。另外常用的kernel還有linear，但因為我們這次的資料好像不太適合，試了之後發現跑了很久還是跑不完，就放棄沒有拿來用了。\n",
    "\n",
    "kernel的使用時機 : \n",
    "\n",
    "\n",
    "linear : 適合linear separable dataset，效果與Logistic\n",
    "Regression類似，與其它SVM kernel比較起來執\n",
    "行速度較快。\n",
    "\n",
    "polynomial : 適合non-linear separable dataset\n",
    "\n",
    "sigmoid : 類似Logistic Regression的二元分類\n",
    "\n",
    "rbf : 沒有指定的話就預設是rbf，適合non-linear separable dataset\n"
   ]
  },
  {
   "cell_type": "code",
   "execution_count": 16,
   "metadata": {},
   "outputs": [
    {
     "name": "stderr",
     "output_type": "stream",
     "text": [
      "C:\\Users\\Mimori\\Anaconda3\\envs\\FDA\\lib\\site-packages\\sklearn\\svm\\base.py:196: FutureWarning: The default value of gamma will change from 'auto' to 'scale' in version 0.22 to account better for unscaled features. Set gamma explicitly to 'auto' or 'scale' to avoid this warning.\n",
      "  \"avoid this warning.\", FutureWarning)\n"
     ]
    },
    {
     "name": "stdout",
     "output_type": "stream",
     "text": [
      "[[3.0000009e-14 1.0000000e+00]\n",
      " [3.0000009e-14 1.0000000e+00]\n",
      " [3.0000009e-14 1.0000000e+00]\n",
      " [3.0000009e-14 1.0000000e+00]\n",
      " [3.0000009e-14 1.0000000e+00]\n",
      " [3.0000009e-14 1.0000000e+00]\n",
      " [3.0000009e-14 1.0000000e+00]\n",
      " [3.0000009e-14 1.0000000e+00]\n",
      " [3.0000009e-14 1.0000000e+00]\n",
      " [3.0000009e-14 1.0000000e+00]\n",
      " [3.0000009e-14 1.0000000e+00]\n",
      " [3.0000009e-14 1.0000000e+00]\n",
      " [3.0000009e-14 1.0000000e+00]\n",
      " [3.0000009e-14 1.0000000e+00]\n",
      " [3.0000009e-14 1.0000000e+00]\n",
      " [3.0000009e-14 1.0000000e+00]\n",
      " [3.0000009e-14 1.0000000e+00]\n",
      " [3.0000009e-14 1.0000000e+00]\n",
      " [3.0000009e-14 1.0000000e+00]\n",
      " [3.0000009e-14 1.0000000e+00]]\n",
      "0.5198412698412699\n"
     ]
    }
   ],
   "source": [
    "# poly\n",
    "svm_model_p = svm.SVC(C = 0.05,kernel='poly', probability=True)\n",
    "svm_model_p.fit(x_train, y_train)\n",
    "probability = svm_model_p.predict_proba(x_test)\n",
    "print(probability[:20])\n",
    "print(svm_model_p.score(x_test, y_test))"
   ]
  },
  {
   "cell_type": "code",
   "execution_count": 17,
   "metadata": {},
   "outputs": [
    {
     "name": "stderr",
     "output_type": "stream",
     "text": [
      "C:\\Users\\Mimori\\Anaconda3\\envs\\FDA\\lib\\site-packages\\sklearn\\svm\\base.py:196: FutureWarning: The default value of gamma will change from 'auto' to 'scale' in version 0.22 to account better for unscaled features. Set gamma explicitly to 'auto' or 'scale' to avoid this warning.\n",
      "  \"avoid this warning.\", FutureWarning)\n"
     ]
    },
    {
     "name": "stdout",
     "output_type": "stream",
     "text": [
      "[[0.45402548 0.54597452]\n",
      " [0.45402548 0.54597452]\n",
      " [0.45402548 0.54597452]\n",
      " [0.45402548 0.54597452]\n",
      " [0.45402548 0.54597452]\n",
      " [0.45402548 0.54597452]\n",
      " [0.45402548 0.54597452]\n",
      " [0.45402548 0.54597452]\n",
      " [0.45402548 0.54597452]\n",
      " [0.45402548 0.54597452]\n",
      " [0.45402548 0.54597452]\n",
      " [0.45402548 0.54597452]\n",
      " [0.45402548 0.54597452]\n",
      " [0.45402548 0.54597452]\n",
      " [0.45402548 0.54597452]\n",
      " [0.45402548 0.54597452]\n",
      " [0.45402548 0.54597452]\n",
      " [0.45402548 0.54597452]\n",
      " [0.45402548 0.54597452]\n",
      " [0.45402548 0.54597452]]\n",
      "0.5198412698412699\n"
     ]
    }
   ],
   "source": [
    "# sigmoid\n",
    "svm_model_s = svm.SVC(C = 0.05, kernel='sigmoid', probability=True)\n",
    "svm_model_s.fit(x_train, y_train)\n",
    "probability = svm_model_s.predict_proba(x_test)\n",
    "print(probability[:20])\n",
    "print(svm_model_s.score(x_test, y_test))"
   ]
  },
  {
   "cell_type": "code",
   "execution_count": 18,
   "metadata": {},
   "outputs": [
    {
     "name": "stderr",
     "output_type": "stream",
     "text": [
      "C:\\Users\\Mimori\\Anaconda3\\envs\\FDA\\lib\\site-packages\\sklearn\\svm\\base.py:196: FutureWarning: The default value of gamma will change from 'auto' to 'scale' in version 0.22 to account better for unscaled features. Set gamma explicitly to 'auto' or 'scale' to avoid this warning.\n",
      "  \"avoid this warning.\", FutureWarning)\n"
     ]
    },
    {
     "name": "stdout",
     "output_type": "stream",
     "text": [
      "[[0.45409518 0.54590482]\n",
      " [0.45409518 0.54590482]\n",
      " [0.45409518 0.54590482]\n",
      " [0.45409518 0.54590482]\n",
      " [0.45409518 0.54590482]\n",
      " [0.45409518 0.54590482]\n",
      " [0.45409518 0.54590482]\n",
      " [0.45409518 0.54590482]\n",
      " [0.45409518 0.54590482]\n",
      " [0.45409518 0.54590482]\n",
      " [0.45409518 0.54590482]\n",
      " [0.45409518 0.54590482]\n",
      " [0.45409518 0.54590482]\n",
      " [0.45409518 0.54590482]\n",
      " [0.45409518 0.54590482]\n",
      " [0.45409518 0.54590482]\n",
      " [0.45409518 0.54590482]\n",
      " [0.45409518 0.54590482]\n",
      " [0.45409518 0.54590482]\n",
      " [0.45409518 0.54590482]]\n",
      "0.5198412698412699\n"
     ]
    }
   ],
   "source": [
    "# rbf\n",
    "svm_model_r = svm.SVC(C = 0.05, kernel='rbf', probability=True)\n",
    "svm_model_r.fit(x_train, y_train)\n",
    "probability = svm_model_r.predict_proba(x_test)\n",
    "print(probability[:20])\n",
    "print(svm_model_r.score(x_test, y_test))"
   ]
  },
  {
   "cell_type": "markdown",
   "metadata": {},
   "source": [
    "可以看到一開始測試的polynomial效果最極端，猜測是1的機率幾乎等於1。另外兩個的機率看起來還算比較正常一點。但是每一筆資料的機率算出來都是一樣的，也就是這個模型基本上不能用。從這三個kernel跑出來的結果來看，效果都不太理想。猜測可能的原因有可能是因為參數的調整不夠完善，才導致這樣的結果。但是SVM其中一個重要且經常使用的參數就是kernel，如果試過這些kernel都沒有辦法跑出好的結果，可能就是這樣的資料並不適合svm，又或者這些資料本身就沒有辦法用來預測我們設置的target，也就是特徵不夠多或不夠重要。\n",
    "\n",
    "最後是neural network。"
   ]
  },
  {
   "cell_type": "markdown",
   "metadata": {},
   "source": [
    "## neural network\n",
    "\n",
    "第三個分類分法是neural network。一開始設置了一些參數，方便之後調整。hidden_units是隱藏層中有幾個神經元，activation是用來設定隱藏層的激活函數。一般常用的激活函數有sigmoid，tanh，relu等等，這裡選用的是relu。lr，也就是learning rate，代表gradient descent一次調整的距離有多大。lr越大，表示越容易接近低點，但也越容易錯過 ; lr越小，表示移動的越慢，越不容易接近低點，但也比較不容易錯過。batch_size代表一次用多少的資料。"
   ]
  },
  {
   "cell_type": "code",
   "execution_count": 19,
   "metadata": {},
   "outputs": [
    {
     "name": "stdout",
     "output_type": "stream",
     "text": [
      "WARNING:tensorflow:From C:\\Users\\Mimori\\Anaconda3\\envs\\FDA\\lib\\site-packages\\tensorflow\\python\\framework\\op_def_library.py:263: colocate_with (from tensorflow.python.framework.ops) is deprecated and will be removed in a future version.\n",
      "Instructions for updating:\n",
      "Colocations handled automatically by placer.\n"
     ]
    }
   ],
   "source": [
    "hidden_units = 10\n",
    "activation = 'relu'  # activation function for hidden layer\n",
    "lr = 0.1\n",
    "batch_size = 32      # how many samples to use for each gradient descent update\n",
    "\n",
    "# create a sequential model\n",
    "model = models.Sequential()\n",
    "\n",
    "# add the hidden layer\n",
    "model.add(layers.Dense(input_dim=5, units=hidden_units, activation=activation))\n",
    "\n",
    "# add the output layer\n",
    "model.add(layers.Dense(input_dim=hidden_units, units=1, activation='sigmoid'))\n",
    "\n",
    "# define our loss function and optimizer\n",
    "model.compile(loss='binary_crossentropy', optimizer=optimizers.Adam(lr=lr), metrics=['accuracy'])"
   ]
  },
  {
   "cell_type": "code",
   "execution_count": 20,
   "metadata": {},
   "outputs": [
    {
     "name": "stdout",
     "output_type": "stream",
     "text": [
      "WARNING:tensorflow:From C:\\Users\\Mimori\\Anaconda3\\envs\\FDA\\lib\\site-packages\\tensorflow\\python\\ops\\math_ops.py:3066: to_int32 (from tensorflow.python.ops.math_ops) is deprecated and will be removed in a future version.\n",
      "Instructions for updating:\n",
      "Use tf.cast instead.\n",
      "Epoch 1/10\n",
      "2264/2264 [==============================] - ETA: 12s - loss: 12.9532 - acc: 0.593 - ETA: 0s - loss: 14.6313 - acc: 0.541 - 0s 107us/step - loss: 14.4777 - acc: 0.5459\n",
      "Epoch 2/10\n",
      "2264/2264 [==============================] - ETA: 0s - loss: 13.9496 - acc: 0.56 - ETA: 0s - loss: 13.9496 - acc: 0.56 - 0s 35us/step - loss: 14.4777 - acc: 0.5459\n",
      "Epoch 3/10\n",
      "2264/2264 [==============================] - ETA: 0s - loss: 16.9388 - acc: 0.46 - ETA: 0s - loss: 14.2817 - acc: 0.55 - 0s 46us/step - loss: 14.4777 - acc: 0.5459\n",
      "Epoch 4/10\n",
      "2264/2264 [==============================] - ETA: 0s - loss: 10.9604 - acc: 0.65 - ETA: 0s - loss: 14.7742 - acc: 0.53 - 0s 32us/step - loss: 14.4777 - acc: 0.5459\n",
      "Epoch 5/10\n",
      "2264/2264 [==============================] - ETA: 0s - loss: 15.9424 - acc: 0.50 - ETA: 0s - loss: 14.3948 - acc: 0.54 - 0s 34us/step - loss: 14.4777 - acc: 0.5459\n",
      "Epoch 6/10\n",
      "2264/2264 [==============================] - ETA: 0s - loss: 15.9424 - acc: 0.50 - ETA: 0s - loss: 14.6394 - acc: 0.54 - 0s 33us/step - loss: 14.4777 - acc: 0.5459\n",
      "Epoch 7/10\n",
      "2264/2264 [==============================] - ETA: 0s - loss: 16.9388 - acc: 0.46 - ETA: 0s - loss: 14.7768 - acc: 0.53 - 0s 32us/step - loss: 14.4777 - acc: 0.5459\n",
      "Epoch 8/10\n",
      "2264/2264 [==============================] - ETA: 0s - loss: 15.9424 - acc: 0.50 - ETA: 0s - loss: 14.5432 - acc: 0.54 - 0s 35us/step - loss: 14.4777 - acc: 0.5459\n",
      "Epoch 9/10\n",
      "2264/2264 [==============================] - ETA: 0s - loss: 11.9568 - acc: 0.62 - ETA: 0s - loss: 14.6139 - acc: 0.54 - 0s 32us/step - loss: 14.4777 - acc: 0.5459\n",
      "Epoch 10/10\n",
      "2264/2264 [==============================] - ETA: 0s - loss: 12.9532 - acc: 0.59 - ETA: 0s - loss: 14.1779 - acc: 0.55 - 0s 35us/step - loss: 14.4777 - acc: 0.5459\n",
      "2264/2264 [==============================] - ETA:  - 0s 27us/step\n",
      "252/252 [==============================] - ETA:  - 0s 44us/step\n",
      "Training accuracy: 0.5459363958650258\n",
      "Testing accuracy: 0.5198412703143226\n"
     ]
    },
    {
     "data": {
      "image/png": "[encoded data removed]",
      "text/plain": [
       "<Figure size 432x288 with 1 Axes>"
      ]
     },
     "metadata": {
      "needs_background": "light"
     },
     "output_type": "display_data"
    },
    {
     "name": "stdout",
     "output_type": "stream",
     "text": [
      "Training accuracy: 0.5459363958650258\n",
      "Testing accuracy: 0.5198412703143226\n"
     ]
    }
   ],
   "source": [
    "# train the parameters\n",
    "history = model.fit(x_train, y_train, epochs=10, batch_size=batch_size)\n",
    "\n",
    "# evaluate accuracy\n",
    "train_acc = model.evaluate(x_train, y_train, batch_size=32)[1]\n",
    "test_acc = model.evaluate(x_test, y_test, batch_size=32)[1]\n",
    "print('Training accuracy: %s' % train_acc)\n",
    "print('Testing accuracy: %s' % test_acc)\n",
    "\n",
    "losses = history.history['loss']\n",
    "plt.plot(range(len(losses)), losses, 'r')\n",
    "plt.show()\n",
    "print('Training accuracy: %s' % train_acc)\n",
    "print('Testing accuracy: %s' % test_acc)"
   ]
  },
  {
   "cell_type": "markdown",
   "metadata": {},
   "source": [
    "嘗試了三個方法，都沒有辦法很有效的訓練出結果，於是猜測可能不是方法的問題，是資料的問題。所以決定加入新的特徵讓資料豐富一點，然後再試一次。"
   ]
  },
  {
   "cell_type": "markdown",
   "metadata": {},
   "source": [
    "## add features\n",
    "到網路上看了一下跟股票趨勢預測相關的教學，加入一些新的特徵 : \n",
    "\n",
    "S_10 :　每10天股票收盤價的平均值\n",
    "\n",
    "Corr : 相關係數\n",
    "\n",
    "RSI : 相對強弱指數\n",
    "\n",
    "Open-Close : 用今天的開盤價減掉昨天的收盤價，找到中間的差距\n",
    " \n",
    "Open-Open : 用今天的開盤價減掉昨天的收盤價，找到中間的差距\n"
   ]
  },
  {
   "cell_type": "code",
   "execution_count": 21,
   "metadata": {},
   "outputs": [],
   "source": [
    "file_name = 'training_data.csv'\n",
    "df = pd.read_csv(file_name, index_col=0)\n",
    "# 每10天股票收盤價的平均值\n",
    "df['S_10'] = df['Close Price'].rolling(window=10).mean()\n",
    "# 利用Pandas的函式corr找相關係數\n",
    "df['Corr'] = df['Close Price'].rolling(window=10).corr(df['S_10'])\n",
    "# 利用ta的函式RSI找相對強弱指數\n",
    "df['RSI'] = ta.RSI(np.array(df['Close Price']), timeperiod =10)\n",
    "# 用今天的開盤價減掉昨天的收盤價，找到中間的差距\n",
    "df['Open-Close'] = df['Open Price'] - df['Close Price'].shift(1)\n",
    "# 用今天的開盤價減掉昨天的收盤價，找到中間的差距\n",
    "df['Open-Open'] = df['Open Price'] - df['Open Price'].shift(1)\n",
    "\n",
    "df = df.dropna()\n",
    "X_train = df.iloc[:,:10]\n",
    "y_train = np.where (df['Close Price'].shift(-1) > df['Close Price'],1,-1)"
   ]
  },
  {
   "cell_type": "code",
   "execution_count": 22,
   "metadata": {},
   "outputs": [
    {
     "data": {
      "text/html": [
       "<div>\n",
       "<style scoped>\n",
       "    .dataframe tbody tr th:only-of-type {\n",
       "        vertical-align: middle;\n",
       "    }\n",
       "\n",
       "    .dataframe tbody tr th {\n",
       "        vertical-align: top;\n",
       "    }\n",
       "\n",
       "    .dataframe thead th {\n",
       "        text-align: right;\n",
       "    }\n",
       "</style>\n",
       "<table border=\"1\" class=\"dataframe\">\n",
       "  <thead>\n",
       "    <tr style=\"text-align: right;\">\n",
       "      <th></th>\n",
       "      <th>Open Price</th>\n",
       "      <th>Close Price</th>\n",
       "      <th>High Price</th>\n",
       "      <th>Low Price</th>\n",
       "      <th>Volume</th>\n",
       "      <th>S_10</th>\n",
       "      <th>Corr</th>\n",
       "      <th>RSI</th>\n",
       "      <th>Open-Close</th>\n",
       "      <th>Open-Open</th>\n",
       "    </tr>\n",
       "    <tr>\n",
       "      <th>Date</th>\n",
       "      <th></th>\n",
       "      <th></th>\n",
       "      <th></th>\n",
       "      <th></th>\n",
       "      <th></th>\n",
       "      <th></th>\n",
       "      <th></th>\n",
       "      <th></th>\n",
       "      <th></th>\n",
       "      <th></th>\n",
       "    </tr>\n",
       "  </thead>\n",
       "  <tbody>\n",
       "    <tr>\n",
       "      <th>29-Jan-2009</th>\n",
       "      <td>868.89</td>\n",
       "      <td>845.14</td>\n",
       "      <td>868.89</td>\n",
       "      <td>844.15</td>\n",
       "      <td>5067060224</td>\n",
       "      <td>840.028</td>\n",
       "      <td>-0.237592</td>\n",
       "      <td>39.480761</td>\n",
       "      <td>-5.20</td>\n",
       "      <td>23.16</td>\n",
       "    </tr>\n",
       "    <tr>\n",
       "      <th>30-Jan-2009</th>\n",
       "      <td>845.69</td>\n",
       "      <td>825.88</td>\n",
       "      <td>851.66</td>\n",
       "      <td>821.67</td>\n",
       "      <td>5350580224</td>\n",
       "      <td>838.242</td>\n",
       "      <td>-0.264066</td>\n",
       "      <td>35.010943</td>\n",
       "      <td>0.55</td>\n",
       "      <td>-23.20</td>\n",
       "    </tr>\n",
       "    <tr>\n",
       "      <th>02-Feb-2009</th>\n",
       "      <td>823.09</td>\n",
       "      <td>825.44</td>\n",
       "      <td>830.78</td>\n",
       "      <td>812.87</td>\n",
       "      <td>5673269760</td>\n",
       "      <td>835.774</td>\n",
       "      <td>-0.501164</td>\n",
       "      <td>34.910616</td>\n",
       "      <td>-2.79</td>\n",
       "      <td>-22.60</td>\n",
       "    </tr>\n",
       "    <tr>\n",
       "      <th>03-Feb-2009</th>\n",
       "      <td>825.69</td>\n",
       "      <td>838.51</td>\n",
       "      <td>842.60</td>\n",
       "      <td>821.98</td>\n",
       "      <td>5886309888</td>\n",
       "      <td>839.103</td>\n",
       "      <td>-0.121338</td>\n",
       "      <td>40.534750</td>\n",
       "      <td>0.25</td>\n",
       "      <td>2.60</td>\n",
       "    </tr>\n",
       "    <tr>\n",
       "      <th>04-Feb-2009</th>\n",
       "      <td>837.77</td>\n",
       "      <td>832.23</td>\n",
       "      <td>851.85</td>\n",
       "      <td>829.18</td>\n",
       "      <td>6420449792</td>\n",
       "      <td>838.302</td>\n",
       "      <td>-0.187328</td>\n",
       "      <td>38.747321</td>\n",
       "      <td>-0.74</td>\n",
       "      <td>12.08</td>\n",
       "    </tr>\n",
       "  </tbody>\n",
       "</table>\n",
       "</div>"
      ],
      "text/plain": [
       "             Open Price  Close Price  High Price  Low Price      Volume  \\\n",
       "Date                                                                      \n",
       "29-Jan-2009      868.89       845.14      868.89     844.15  5067060224   \n",
       "30-Jan-2009      845.69       825.88      851.66     821.67  5350580224   \n",
       "02-Feb-2009      823.09       825.44      830.78     812.87  5673269760   \n",
       "03-Feb-2009      825.69       838.51      842.60     821.98  5886309888   \n",
       "04-Feb-2009      837.77       832.23      851.85     829.18  6420449792   \n",
       "\n",
       "                S_10      Corr        RSI  Open-Close  Open-Open  \n",
       "Date                                                              \n",
       "29-Jan-2009  840.028 -0.237592  39.480761       -5.20      23.16  \n",
       "30-Jan-2009  838.242 -0.264066  35.010943        0.55     -23.20  \n",
       "02-Feb-2009  835.774 -0.501164  34.910616       -2.79     -22.60  \n",
       "03-Feb-2009  839.103 -0.121338  40.534750        0.25       2.60  \n",
       "04-Feb-2009  838.302 -0.187328  38.747321       -0.74      12.08  "
      ]
     },
     "execution_count": 22,
     "metadata": {},
     "output_type": "execute_result"
    }
   ],
   "source": [
    "X_train.head()"
   ]
  },
  {
   "cell_type": "code",
   "execution_count": 23,
   "metadata": {},
   "outputs": [],
   "source": [
    "file_name = 'testing_data.csv'\n",
    "df_test = pd.read_csv(file_name, index_col=0)\n",
    "# 每10天股票收盤價的平均值\n",
    "df_test['S_10'] = df_test['Close Price'].rolling(window=10).mean()\n",
    "# 利用Pandas的函式corr找相關係數\n",
    "df_test['Corr'] = df_test['Close Price'].rolling(window=10).corr(df_test['S_10'])\n",
    "# 利用ta的函式RSI找相對強弱指數\n",
    "df_test['RSI'] = ta.RSI(np.array(df_test['Close Price']), timeperiod =10)\n",
    "# 用今天的開盤價減掉昨天的收盤價，找到中間的差距\n",
    "df_test['Open-Close'] = df_test['Open Price'] - df_test['Close Price'].shift(1)\n",
    "# 用今天的開盤價減掉昨天的收盤價，找到中間的差距\n",
    "df_test['Open-Open'] = df_test['Open Price'] - df_test['Open Price'].shift(1)\n",
    "\n",
    "df_test = df_test.dropna()\n",
    "X_test = df_test.iloc[:,:10]\n",
    "y_test = np.where (df_test['Close Price'].shift(-1) > df_test['Close Price'],1,-1)"
   ]
  },
  {
   "cell_type": "code",
   "execution_count": 24,
   "metadata": {},
   "outputs": [
    {
     "data": {
      "text/html": [
       "<div>\n",
       "<style scoped>\n",
       "    .dataframe tbody tr th:only-of-type {\n",
       "        vertical-align: middle;\n",
       "    }\n",
       "\n",
       "    .dataframe tbody tr th {\n",
       "        vertical-align: top;\n",
       "    }\n",
       "\n",
       "    .dataframe thead th {\n",
       "        text-align: right;\n",
       "    }\n",
       "</style>\n",
       "<table border=\"1\" class=\"dataframe\">\n",
       "  <thead>\n",
       "    <tr style=\"text-align: right;\">\n",
       "      <th></th>\n",
       "      <th>Open Price</th>\n",
       "      <th>Close Price</th>\n",
       "      <th>High Price</th>\n",
       "      <th>Low Price</th>\n",
       "      <th>Volume</th>\n",
       "      <th>S_10</th>\n",
       "      <th>Corr</th>\n",
       "      <th>RSI</th>\n",
       "      <th>Open-Close</th>\n",
       "      <th>Open-Open</th>\n",
       "    </tr>\n",
       "    <tr>\n",
       "      <th>Date</th>\n",
       "      <th></th>\n",
       "      <th></th>\n",
       "      <th></th>\n",
       "      <th></th>\n",
       "      <th></th>\n",
       "      <th></th>\n",
       "      <th></th>\n",
       "      <th></th>\n",
       "      <th></th>\n",
       "      <th></th>\n",
       "    </tr>\n",
       "  </thead>\n",
       "  <tbody>\n",
       "    <tr>\n",
       "      <th>29-Jan-2018</th>\n",
       "      <td>2867.23</td>\n",
       "      <td>2853.53</td>\n",
       "      <td>2870.62</td>\n",
       "      <td>2851.48</td>\n",
       "      <td>2086406528</td>\n",
       "      <td>2826.260</td>\n",
       "      <td>0.945994</td>\n",
       "      <td>79.149706</td>\n",
       "      <td>-5.64</td>\n",
       "      <td>19.75</td>\n",
       "    </tr>\n",
       "    <tr>\n",
       "      <th>30-Jan-2018</th>\n",
       "      <td>2832.74</td>\n",
       "      <td>2822.43</td>\n",
       "      <td>2837.75</td>\n",
       "      <td>2818.27</td>\n",
       "      <td>2339843584</td>\n",
       "      <td>2830.861</td>\n",
       "      <td>0.745889</td>\n",
       "      <td>63.047317</td>\n",
       "      <td>-20.79</td>\n",
       "      <td>-34.49</td>\n",
       "    </tr>\n",
       "    <tr>\n",
       "      <th>31-Jan-2018</th>\n",
       "      <td>2832.41</td>\n",
       "      <td>2823.81</td>\n",
       "      <td>2839.26</td>\n",
       "      <td>2813.04</td>\n",
       "      <td>2649383424</td>\n",
       "      <td>2832.986</td>\n",
       "      <td>0.540062</td>\n",
       "      <td>63.414285</td>\n",
       "      <td>9.98</td>\n",
       "      <td>-0.33</td>\n",
       "    </tr>\n",
       "    <tr>\n",
       "      <th>01-Feb-2018</th>\n",
       "      <td>2816.45</td>\n",
       "      <td>2821.98</td>\n",
       "      <td>2835.96</td>\n",
       "      <td>2812.70</td>\n",
       "      <td>2406066688</td>\n",
       "      <td>2835.381</td>\n",
       "      <td>0.185381</td>\n",
       "      <td>62.499770</td>\n",
       "      <td>-7.36</td>\n",
       "      <td>-15.96</td>\n",
       "    </tr>\n",
       "    <tr>\n",
       "      <th>02-Feb-2018</th>\n",
       "      <td>2808.92</td>\n",
       "      <td>2762.13</td>\n",
       "      <td>2808.92</td>\n",
       "      <td>2759.97</td>\n",
       "      <td>2629697792</td>\n",
       "      <td>2830.564</td>\n",
       "      <td>-0.300583</td>\n",
       "      <td>41.008957</td>\n",
       "      <td>-13.06</td>\n",
       "      <td>-7.53</td>\n",
       "    </tr>\n",
       "  </tbody>\n",
       "</table>\n",
       "</div>"
      ],
      "text/plain": [
       "             Open Price  Close Price  High Price  Low Price      Volume  \\\n",
       "Date                                                                      \n",
       "29-Jan-2018     2867.23      2853.53     2870.62    2851.48  2086406528   \n",
       "30-Jan-2018     2832.74      2822.43     2837.75    2818.27  2339843584   \n",
       "31-Jan-2018     2832.41      2823.81     2839.26    2813.04  2649383424   \n",
       "01-Feb-2018     2816.45      2821.98     2835.96    2812.70  2406066688   \n",
       "02-Feb-2018     2808.92      2762.13     2808.92    2759.97  2629697792   \n",
       "\n",
       "                 S_10      Corr        RSI  Open-Close  Open-Open  \n",
       "Date                                                               \n",
       "29-Jan-2018  2826.260  0.945994  79.149706       -5.64      19.75  \n",
       "30-Jan-2018  2830.861  0.745889  63.047317      -20.79     -34.49  \n",
       "31-Jan-2018  2832.986  0.540062  63.414285        9.98      -0.33  \n",
       "01-Feb-2018  2835.381  0.185381  62.499770       -7.36     -15.96  \n",
       "02-Feb-2018  2830.564 -0.300583  41.008957      -13.06      -7.53  "
      ]
     },
     "execution_count": 24,
     "metadata": {},
     "output_type": "execute_result"
    }
   ],
   "source": [
    "X_test.head()"
   ]
  },
  {
   "cell_type": "markdown",
   "metadata": {},
   "source": [
    "## logistic regression (add feature)\n",
    "建立新的模型，把資料丟進去"
   ]
  },
  {
   "cell_type": "code",
   "execution_count": 25,
   "metadata": {},
   "outputs": [
    {
     "name": "stderr",
     "output_type": "stream",
     "text": [
      "C:\\Users\\Mimori\\Anaconda3\\envs\\FDA\\lib\\site-packages\\sklearn\\linear_model\\logistic.py:433: FutureWarning: Default solver will be changed to 'lbfgs' in 0.22. Specify a solver to silence this warning.\n",
      "  FutureWarning)\n"
     ]
    }
   ],
   "source": [
    "lg_model_2 = LogisticRegression()\n",
    "lg_model_2 = lg_model_2.fit(X_train,y_train)"
   ]
  },
  {
   "cell_type": "markdown",
   "metadata": {},
   "source": [
    "印出模型係數 model.coef_"
   ]
  },
  {
   "cell_type": "code",
   "execution_count": 26,
   "metadata": {},
   "outputs": [
    {
     "data": {
      "text/html": [
       "<div>\n",
       "<style scoped>\n",
       "    .dataframe tbody tr th:only-of-type {\n",
       "        vertical-align: middle;\n",
       "    }\n",
       "\n",
       "    .dataframe tbody tr th {\n",
       "        vertical-align: top;\n",
       "    }\n",
       "\n",
       "    .dataframe thead th {\n",
       "        text-align: right;\n",
       "    }\n",
       "</style>\n",
       "<table border=\"1\" class=\"dataframe\">\n",
       "  <thead>\n",
       "    <tr style=\"text-align: right;\">\n",
       "      <th></th>\n",
       "      <th>0</th>\n",
       "      <th>1</th>\n",
       "    </tr>\n",
       "  </thead>\n",
       "  <tbody>\n",
       "    <tr>\n",
       "      <th>0</th>\n",
       "      <td>Open Price</td>\n",
       "      <td>[3.1340108251491474e-17]</td>\n",
       "    </tr>\n",
       "    <tr>\n",
       "      <th>1</th>\n",
       "      <td>Close Price</td>\n",
       "      <td>[3.113069971842534e-17]</td>\n",
       "    </tr>\n",
       "    <tr>\n",
       "      <th>2</th>\n",
       "      <td>High Price</td>\n",
       "      <td>[3.1391818834172114e-17]</td>\n",
       "    </tr>\n",
       "    <tr>\n",
       "      <th>3</th>\n",
       "      <td>Low Price</td>\n",
       "      <td>[3.1102570731078485e-17]</td>\n",
       "    </tr>\n",
       "    <tr>\n",
       "      <th>4</th>\n",
       "      <td>Volume</td>\n",
       "      <td>[5.5773390050069776e-11]</td>\n",
       "    </tr>\n",
       "    <tr>\n",
       "      <th>5</th>\n",
       "      <td>S_10</td>\n",
       "      <td>[3.1385041279115416e-17]</td>\n",
       "    </tr>\n",
       "    <tr>\n",
       "      <th>6</th>\n",
       "      <td>Corr</td>\n",
       "      <td>[8.950832758028562e-21]</td>\n",
       "    </tr>\n",
       "    <tr>\n",
       "      <th>7</th>\n",
       "      <td>RSI</td>\n",
       "      <td>[9.081713295241714e-19]</td>\n",
       "    </tr>\n",
       "    <tr>\n",
       "      <th>8</th>\n",
       "      <td>Open-Close</td>\n",
       "      <td>[-1.419887657294825e-20]</td>\n",
       "    </tr>\n",
       "    <tr>\n",
       "      <th>9</th>\n",
       "      <td>Open-Open</td>\n",
       "      <td>[6.019870467569563e-20]</td>\n",
       "    </tr>\n",
       "  </tbody>\n",
       "</table>\n",
       "</div>"
      ],
      "text/plain": [
       "             0                         1\n",
       "0   Open Price  [3.1340108251491474e-17]\n",
       "1  Close Price   [3.113069971842534e-17]\n",
       "2   High Price  [3.1391818834172114e-17]\n",
       "3    Low Price  [3.1102570731078485e-17]\n",
       "4       Volume  [5.5773390050069776e-11]\n",
       "5         S_10  [3.1385041279115416e-17]\n",
       "6         Corr   [8.950832758028562e-21]\n",
       "7          RSI   [9.081713295241714e-19]\n",
       "8   Open-Close  [-1.419887657294825e-20]\n",
       "9    Open-Open   [6.019870467569563e-20]"
      ]
     },
     "execution_count": 26,
     "metadata": {},
     "output_type": "execute_result"
    }
   ],
   "source": [
    "pd.DataFrame(zip(X_train.columns, np.transpose(lg_model_2.coef_)))"
   ]
  },
  {
   "cell_type": "markdown",
   "metadata": {},
   "source": [
    "利用predict_proba函式來計算丟進x_test之後得到的y=1或y=-1的機率 印出前20個來看一下結果\n",
    "\n",
    "右邊的機率代表的是預測y=1的機率 左邊的機率代表的是預測y=-1的機率"
   ]
  },
  {
   "cell_type": "code",
   "execution_count": 27,
   "metadata": {},
   "outputs": [
    {
     "name": "stdout",
     "output_type": "stream",
     "text": [
      "[[0.47094129 0.52905871]\n",
      " [0.46742097 0.53257903]\n",
      " [0.4631258  0.5368742 ]\n",
      " [0.46650163 0.53349837]\n",
      " [0.4633988  0.5366012 ]\n",
      " [0.45289706 0.54710294]\n",
      " [0.44649636 0.55350364]\n",
      " [0.46168474 0.53831526]\n",
      " [0.45589852 0.54410148]\n",
      " [0.44977565 0.55022435]\n",
      " [0.46418529 0.53581471]\n",
      " [0.47204548 0.52795452]\n",
      " [0.46740662 0.53259338]\n",
      " [0.46911487 0.53088513]\n",
      " [0.46996397 0.53003603]\n",
      " [0.47123678 0.52876322]\n",
      " [0.47000657 0.52999343]\n",
      " [0.47135897 0.52864103]\n",
      " [0.47426759 0.52573241]\n",
      " [0.47118202 0.52881798]]\n"
     ]
    }
   ],
   "source": [
    "probability = lg_model_2.predict_proba(X_test)\n",
    "print(probability[:20])"
   ]
  },
  {
   "cell_type": "markdown",
   "metadata": {},
   "source": [
    "利用測試資料幫模型算出來的預測準確率大約是0.50"
   ]
  },
  {
   "cell_type": "code",
   "execution_count": 28,
   "metadata": {},
   "outputs": [
    {
     "name": "stdout",
     "output_type": "stream",
     "text": [
      "[1 1 1 1 1 1 1 1 1 1 1 1 1 1 1 1 1 1 1 1]\n",
      "0.5042735042735043\n"
     ]
    }
   ],
   "source": [
    "predicted = lg_model_2.predict(X_test)\n",
    "print(predicted[:20])\n",
    "print(lg_model_2.score(X_test, y_test))"
   ]
  },
  {
   "cell_type": "markdown",
   "metadata": {},
   "source": [
    "加入了新的特徵，結果反而害準確率稍微下降了。猜測可能是因為特徵變多，害模型沒辦法學會哪個才是重要的特徵，最後讓準確率下降。不過看預測機率的結果，這次也是全部都猜1，看來訓練還是沒有很成功。看來除了加新特徵的效果不好之外，也有可能是因為這個資料不適合logistic regression來預測。\n",
    "再試試svm。"
   ]
  },
  {
   "cell_type": "markdown",
   "metadata": {},
   "source": [
    "## SVM (add feature)\n",
    "把加入新特徵的資料丟進SVM模型。一樣分成三個kernel丟。"
   ]
  },
  {
   "cell_type": "code",
   "execution_count": 29,
   "metadata": {},
   "outputs": [
    {
     "name": "stderr",
     "output_type": "stream",
     "text": [
      "C:\\Users\\Mimori\\Anaconda3\\envs\\FDA\\lib\\site-packages\\sklearn\\svm\\base.py:196: FutureWarning: The default value of gamma will change from 'auto' to 'scale' in version 0.22 to account better for unscaled features. Set gamma explicitly to 'auto' or 'scale' to avoid this warning.\n",
      "  \"avoid this warning.\", FutureWarning)\n"
     ]
    },
    {
     "name": "stdout",
     "output_type": "stream",
     "text": [
      "[[3.0000009e-14 1.0000000e+00]\n",
      " [3.0000009e-14 1.0000000e+00]\n",
      " [3.0000009e-14 1.0000000e+00]\n",
      " [3.0000009e-14 1.0000000e+00]\n",
      " [3.0000009e-14 1.0000000e+00]\n",
      " [3.0000009e-14 1.0000000e+00]\n",
      " [3.0000009e-14 1.0000000e+00]\n",
      " [3.0000009e-14 1.0000000e+00]\n",
      " [3.0000009e-14 1.0000000e+00]\n",
      " [3.0000009e-14 1.0000000e+00]\n",
      " [3.0000009e-14 1.0000000e+00]\n",
      " [3.0000009e-14 1.0000000e+00]\n",
      " [3.0000009e-14 1.0000000e+00]\n",
      " [3.0000009e-14 1.0000000e+00]\n",
      " [3.0000009e-14 1.0000000e+00]\n",
      " [3.0000009e-14 1.0000000e+00]\n",
      " [3.0000009e-14 1.0000000e+00]\n",
      " [3.0000009e-14 1.0000000e+00]\n",
      " [3.0000009e-14 1.0000000e+00]\n",
      " [3.0000009e-14 1.0000000e+00]]\n",
      "0.5042735042735043\n"
     ]
    }
   ],
   "source": [
    "# poly\n",
    "svm_model_p_2 = svm.SVC(C = 0.05,kernel='poly', probability=True)\n",
    "svm_model_p_2.fit(X_train, y_train)\n",
    "probability = svm_model_p_2.predict_proba(X_test)\n",
    "print(probability[:20])\n",
    "print(svm_model_p_2.score(X_test, y_test))"
   ]
  },
  {
   "cell_type": "code",
   "execution_count": 30,
   "metadata": {},
   "outputs": [
    {
     "name": "stderr",
     "output_type": "stream",
     "text": [
      "C:\\Users\\Mimori\\Anaconda3\\envs\\FDA\\lib\\site-packages\\sklearn\\svm\\base.py:196: FutureWarning: The default value of gamma will change from 'auto' to 'scale' in version 0.22 to account better for unscaled features. Set gamma explicitly to 'auto' or 'scale' to avoid this warning.\n",
      "  \"avoid this warning.\", FutureWarning)\n"
     ]
    },
    {
     "name": "stdout",
     "output_type": "stream",
     "text": [
      "[[0.45410281 0.54589719]\n",
      " [0.45410281 0.54589719]\n",
      " [0.45410281 0.54589719]\n",
      " [0.45410281 0.54589719]\n",
      " [0.45410281 0.54589719]\n",
      " [0.45410281 0.54589719]\n",
      " [0.45410281 0.54589719]\n",
      " [0.45410281 0.54589719]\n",
      " [0.45410281 0.54589719]\n",
      " [0.45410281 0.54589719]\n",
      " [0.45410281 0.54589719]\n",
      " [0.45410281 0.54589719]\n",
      " [0.45410281 0.54589719]\n",
      " [0.45410281 0.54589719]\n",
      " [0.45410281 0.54589719]\n",
      " [0.45410281 0.54589719]\n",
      " [0.45410281 0.54589719]\n",
      " [0.45410281 0.54589719]\n",
      " [0.45410281 0.54589719]\n",
      " [0.45410281 0.54589719]]\n",
      "0.5042735042735043\n"
     ]
    }
   ],
   "source": [
    "# sigmoid\n",
    "svm_model_s_2 = svm.SVC(C = 0.05, kernel='sigmoid', probability=True)\n",
    "svm_model_s_2.fit(X_train, y_train)\n",
    "probability = svm_model_s_2.predict_proba(X_test)\n",
    "print(probability[:20])\n",
    "print(svm_model_s_2.score(X_test, y_test))"
   ]
  },
  {
   "cell_type": "code",
   "execution_count": 31,
   "metadata": {},
   "outputs": [
    {
     "name": "stderr",
     "output_type": "stream",
     "text": [
      "C:\\Users\\Mimori\\Anaconda3\\envs\\FDA\\lib\\site-packages\\sklearn\\svm\\base.py:196: FutureWarning: The default value of gamma will change from 'auto' to 'scale' in version 0.22 to account better for unscaled features. Set gamma explicitly to 'auto' or 'scale' to avoid this warning.\n",
      "  \"avoid this warning.\", FutureWarning)\n"
     ]
    },
    {
     "name": "stdout",
     "output_type": "stream",
     "text": [
      "[[0.4541787 0.5458213]\n",
      " [0.4541787 0.5458213]\n",
      " [0.4541787 0.5458213]\n",
      " [0.4541787 0.5458213]\n",
      " [0.4541787 0.5458213]\n",
      " [0.4541787 0.5458213]\n",
      " [0.4541787 0.5458213]\n",
      " [0.4541787 0.5458213]\n",
      " [0.4541787 0.5458213]\n",
      " [0.4541787 0.5458213]\n",
      " [0.4541787 0.5458213]\n",
      " [0.4541787 0.5458213]\n",
      " [0.4541787 0.5458213]\n",
      " [0.4541787 0.5458213]\n",
      " [0.4541787 0.5458213]\n",
      " [0.4541787 0.5458213]\n",
      " [0.4541787 0.5458213]\n",
      " [0.4541787 0.5458213]\n",
      " [0.4541787 0.5458213]\n",
      " [0.4541787 0.5458213]]\n",
      "0.5042735042735043\n"
     ]
    }
   ],
   "source": [
    "# rbf\n",
    "svm_model_r_2 = svm.SVC(C = 0.05, kernel='rbf', probability=True)\n",
    "svm_model_r_2.fit(X_train, y_train)\n",
    "probability = svm_model_r_2.predict_proba(X_test)\n",
    "print(probability[:20])\n",
    "print(svm_model_r_2.score(X_test, y_test))"
   ]
  },
  {
   "cell_type": "markdown",
   "metadata": {},
   "source": [
    "svm三個kernel測試下來的結果跟原本的幾乎完全一樣。就只有算出來的機率跟準確率稍微不同而已。再次說明了新加的特徵沒有甚麼幫助。\n",
    "\n",
    "最後試試看neural network。"
   ]
  },
  {
   "cell_type": "markdown",
   "metadata": {},
   "source": [
    "## neural network (add feature)\n",
    "因為加入了新的特徵，所以input dimension要從5變成10。"
   ]
  },
  {
   "cell_type": "code",
   "execution_count": 34,
   "metadata": {},
   "outputs": [],
   "source": [
    "hidden_units = 10\n",
    "activation = 'relu'  \n",
    "lr = 0.1\n",
    "batch_size = 32\n",
    "\n",
    "model_2 = models.Sequential()\n",
    "model_2.add(layers.Dense(input_dim=10, units=hidden_units, activation=activation))\n",
    "model_2.add(layers.Dense(input_dim=hidden_units, units=1, activation='sigmoid'))\n",
    "model_2.compile(loss='binary_crossentropy', optimizer=optimizers.Adam(lr=lr), metrics=['accuracy'])"
   ]
  },
  {
   "cell_type": "code",
   "execution_count": 35,
   "metadata": {},
   "outputs": [
    {
     "name": "stdout",
     "output_type": "stream",
     "text": [
      "Epoch 1/10\n",
      "2246/2246 [==============================] - ETA: 15s - loss: 11.9568 - acc: 0.625 - ETA: 0s - loss: 14.5244 - acc: 0.544 - 0s 133us/step - loss: 14.4802 - acc: 0.5459\n",
      "Epoch 2/10\n",
      "2246/2246 [==============================] - ETA: 0s - loss: 16.9388 - acc: 0.46 - ETA: 0s - loss: 14.8214 - acc: 0.53 - 0s 35us/step - loss: 14.4802 - acc: 0.5459\n",
      "Epoch 3/10\n",
      "2246/2246 [==============================] - ETA: 0s - loss: 12.9532 - acc: 0.59 - ETA: 0s - loss: 14.8796 - acc: 0.53 - 0s 37us/step - loss: 14.4802 - acc: 0.5459\n",
      "Epoch 4/10\n",
      "2246/2246 [==============================] - ETA: 0s - loss: 20.9244 - acc: 0.34 - ETA: 0s - loss: 14.7467 - acc: 0.53 - 0s 42us/step - loss: 14.4802 - acc: 0.5459\n",
      "Epoch 5/10\n",
      "2246/2246 [==============================] - ETA: 0s - loss: 12.9532 - acc: 0.59 - ETA: 0s - loss: 14.4606 - acc: 0.54 - 0s 44us/step - loss: 14.4802 - acc: 0.5459\n",
      "Epoch 6/10\n",
      "2246/2246 [==============================] - ETA: 0s - loss: 8.9676 - acc: 0.718 - ETA: 0s - loss: 14.1540 - acc: 0.55 - 0s 42us/step - loss: 14.4802 - acc: 0.5459\n",
      "Epoch 7/10\n",
      "2246/2246 [==============================] - ETA: 0s - loss: 15.9424 - acc: 0.50 - ETA: 0s - loss: 14.7976 - acc: 0.53 - 0s 34us/step - loss: 14.4802 - acc: 0.5459\n",
      "Epoch 8/10\n",
      "2246/2246 [==============================] - ETA: 0s - loss: 17.9352 - acc: 0.43 - ETA: 0s - loss: 14.6969 - acc: 0.53 - 0s 34us/step - loss: 14.4802 - acc: 0.5459\n",
      "Epoch 9/10\n",
      "2246/2246 [==============================] - ETA: 0s - loss: 15.9424 - acc: 0.50 - ETA: 0s - loss: 14.5644 - acc: 0.54 - 0s 35us/step - loss: 14.4802 - acc: 0.5459\n",
      "Epoch 10/10\n",
      "2246/2246 [==============================] - ETA: 0s - loss: 12.9532 - acc: 0.59 - ETA: 0s - loss: 14.3799 - acc: 0.54 - 0s 38us/step - loss: 14.4802 - acc: 0.5459\n",
      "2246/2246 [==============================] - ETA:  - 0s 43us/step\n",
      "234/234 [==============================] - ETA:  - 0s 38us/step\n",
      "Training accuracy: 0.545859305458417\n",
      "Testing accuracy: 0.504273504528225\n"
     ]
    },
    {
     "data": {
      "image/png": "[encoded data removed]",
      "text/plain": [
       "<Figure size 432x288 with 1 Axes>"
      ]
     },
     "metadata": {
      "needs_background": "light"
     },
     "output_type": "display_data"
    },
    {
     "name": "stdout",
     "output_type": "stream",
     "text": [
      "Training accuracy: 0.545859305458417\n",
      "Testing accuracy: 0.504273504528225\n"
     ]
    }
   ],
   "source": [
    "history = model_2.fit(X_train, y_train, epochs=10, batch_size=batch_size)\n",
    "\n",
    "train_acc = model_2.evaluate(X_train, y_train, batch_size=32)[1]\n",
    "test_acc = model_2.evaluate(X_test, y_test, batch_size=32)[1]\n",
    "print('Training accuracy: %s' % train_acc)\n",
    "print('Testing accuracy: %s' % test_acc)\n",
    "\n",
    "losses = history.history['loss']\n",
    "plt.plot(range(len(losses)), losses, 'r')\n",
    "plt.show()\n",
    "print('Training accuracy: %s' % train_acc)\n",
    "print('Testing accuracy: %s' % test_acc)"
   ]
  },
  {
   "cell_type": "markdown",
   "metadata": {},
   "source": [
    "加入了新的特徵，結果還是不優。結論如果不是我的資料設的有問題，那就是這個資料本身對於預測就有一定的難度。\n",
    "不過想想也有道理。如果股票這麼簡單就可以預測的話，高雄就真的可以發大財了。"
   ]
  }
 ],
 "metadata": {
  "kernelspec": {
   "display_name": "Python 3",
   "language": "python",
   "name": "python3"
  },
  "language_info": {
   "codemirror_mode": {
    "name": "ipython",
    "version": 3
   },
   "file_extension": ".py",
   "mimetype": "text/x-python",
   "name": "python",
   "nbconvert_exporter": "python",
   "pygments_lexer": "ipython3",
   "version": "3.6.8"
  }
 },
 "nbformat": 4,
 "nbformat_minor": 2
}
