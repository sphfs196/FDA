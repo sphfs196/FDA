{
 "cells": [
  {
   "cell_type": "code",
   "execution_count": 1,
   "metadata": {},
   "outputs": [],
   "source": [
    "# Data Manupulation\n",
    "import numpy as np\n",
    "import pandas as pd\n",
    "\n",
    "# Techinical Indicators\n",
    "import talib as ta\n",
    "\n",
    "# Plotting graphs\n",
    "import matplotlib.pyplot as plt\n",
    "\n",
    "# Machine learning\n",
    "from sklearn.linear_model import LogisticRegression\n",
    "from sklearn import metrics\n",
    "from sklearn import svm,preprocessing \n",
    "from sklearn.metrics import classification_report"
   ]
  },
  {
   "cell_type": "code",
   "execution_count": 2,
   "metadata": {},
   "outputs": [],
   "source": [
    "file_name = 'training_data.csv'\n",
    "#df = pd.read_csv(file_name, sep=',', index_col=0)\n",
    "df = pd.read_csv(file_name)\n",
    "'''\n",
    "df['S_10'] = df['Close Price'].rolling(window=10).mean()\n",
    "df['Corr'] = df['Close Price'].rolling(window=10).corr(df['S_10'])\n",
    "df['RSI'] = ta.RSI(np.array(df['Close Price']), timeperiod =10)\n",
    "df['Open-Close'] = df['Open Price'] - df['Close Price'].shift(1)\n",
    "df['Open-Open'] = df['Open Price'] - df['Open Price'].shift(1)\n",
    "df = df.dropna()\n",
    "X_train = df.iloc[:,:10]\n",
    "'''\n",
    "X_train = df\n",
    "# y=1 : 明天的close > 今天的close(上漲), y=-1 : 明天的close < 今天的close(下跌)\n",
    "y_train = np.where (df['Close Price'].shift(-1) > df['Close Price'],1,-1)"
   ]
  },
  {
   "cell_type": "code",
   "execution_count": 3,
   "metadata": {},
   "outputs": [
    {
     "data": {
      "text/plain": [
       "2264"
      ]
     },
     "execution_count": 3,
     "metadata": {},
     "output_type": "execute_result"
    }
   ],
   "source": [
    "len(X_train)"
   ]
  },
  {
   "cell_type": "code",
   "execution_count": 4,
   "metadata": {},
   "outputs": [
    {
     "data": {
      "text/plain": [
       "2264"
      ]
     },
     "execution_count": 4,
     "metadata": {},
     "output_type": "execute_result"
    }
   ],
   "source": [
    "len(y_train)"
   ]
  },
  {
   "cell_type": "code",
   "execution_count": 4,
   "metadata": {},
   "outputs": [],
   "source": [
    "file_name = 'testing_data.csv'\n",
    "#df_test = pd.read_csv(file_name, sep=',', index_col=0)\n",
    "df_test = pd.read_csv(file_name)\n",
    "'''\n",
    "df_test['S_10'] = df_test['Close Price'].rolling(window=10).mean()\n",
    "df_test['Corr'] = df_test['Close Price'].rolling(window=10).corr(df_test['S_10'])\n",
    "df_test['RSI'] = ta.RSI(np.array(df_test['Close Price']), timeperiod =10)\n",
    "df_test['Open-Close'] = df_test['Open Price'] - df_test['Close Price'].shift(1)\n",
    "df_test['Open-Open'] = df_test['Open Price'] - df_test['Open Price'].shift(1)\n",
    "df_test = df_test.dropna()\n",
    "X_test = df_test.iloc[:,:10]\n",
    "'''\n",
    "X_test = df_test\n",
    "# y=1 : 明天的close > 今天的close(上漲), y=-1 : 明天的close < 今天的close(下跌)\n",
    "y_test = np.where (df_test['Close Price'].shift(-1) > df_test['Close Price'],1,-1)\n"
   ]
  },
  {
   "cell_type": "code",
   "execution_count": 5,
   "metadata": {},
   "outputs": [],
   "source": [
    "clf = svm.SVC()"
   ]
  },
  {
   "cell_type": "code",
   "execution_count": 6,
   "metadata": {},
   "outputs": [
    {
     "name": "stderr",
     "output_type": "stream",
     "text": [
      "C:\\Users\\Mimori\\Anaconda3\\envs\\FDA\\lib\\site-packages\\sklearn\\svm\\base.py:196: FutureWarning: The default value of gamma will change from 'auto' to 'scale' in version 0.22 to account better for unscaled features. Set gamma explicitly to 'auto' or 'scale' to avoid this warning.\n",
      "  \"avoid this warning.\", FutureWarning)\n"
     ]
    },
    {
     "data": {
      "text/plain": [
       "SVC(C=1.0, cache_size=200, class_weight=None, coef0=0.0,\n",
       "  decision_function_shape='ovr', degree=3, gamma='auto_deprecated',\n",
       "  kernel='rbf', max_iter=-1, probability=False, random_state=None,\n",
       "  shrinking=True, tol=0.001, verbose=False)"
      ]
     },
     "execution_count": 6,
     "metadata": {},
     "output_type": "execute_result"
    }
   ],
   "source": [
    "clf.fit(X_train, y_train)"
   ]
  },
  {
   "cell_type": "code",
   "execution_count": 7,
   "metadata": {},
   "outputs": [
    {
     "name": "stderr",
     "output_type": "stream",
     "text": [
      "C:\\Users\\Mimori\\Anaconda3\\envs\\FDA\\lib\\site-packages\\sklearn\\metrics\\classification.py:1143: UndefinedMetricWarning: Precision and F-score are ill-defined and being set to 0.0 in labels with no predicted samples.\n",
      "  'precision', 'predicted', average, warn_for)\n"
     ]
    }
   ],
   "source": [
    "y_predict = clf.predict(X_test)\n",
    "accuracy = clf.score(X_test, y_test)\n",
    "report = classification_report(y_test,y_predict,target_names = ['drop','up'])"
   ]
  },
  {
   "cell_type": "code",
   "execution_count": 8,
   "metadata": {},
   "outputs": [
    {
     "name": "stdout",
     "output_type": "stream",
     "text": [
      "              precision    recall  f1-score   support\n",
      "\n",
      "        drop       0.00      0.00      0.00       121\n",
      "          up       0.52      1.00      0.68       131\n",
      "\n",
      "   micro avg       0.52      0.52      0.52       252\n",
      "   macro avg       0.26      0.50      0.34       252\n",
      "weighted avg       0.27      0.52      0.36       252\n",
      "\n"
     ]
    }
   ],
   "source": [
    "print(report)"
   ]
  },
  {
   "cell_type": "code",
   "execution_count": 9,
   "metadata": {},
   "outputs": [
    {
     "data": {
      "text/plain": [
       "0.5198412698412699"
      ]
     },
     "execution_count": 9,
     "metadata": {},
     "output_type": "execute_result"
    }
   ],
   "source": [
    "accuracy"
   ]
  },
  {
   "cell_type": "code",
   "execution_count": 12,
   "metadata": {},
   "outputs": [
    {
     "name": "stderr",
     "output_type": "stream",
     "text": [
      "C:\\Users\\Mimori\\Anaconda3\\envs\\FDA\\lib\\site-packages\\sklearn\\linear_model\\logistic.py:433: FutureWarning: Default solver will be changed to 'lbfgs' in 0.22. Specify a solver to silence this warning.\n",
      "  FutureWarning)\n"
     ]
    }
   ],
   "source": [
    "model = LogisticRegression()\n",
    "\n",
    "model = model.fit (X_train,y_train)\n"
   ]
  },
  {
   "cell_type": "code",
   "execution_count": 13,
   "metadata": {},
   "outputs": [
    {
     "name": "stdout",
     "output_type": "stream",
     "text": [
      "0.5198412698412699\n"
     ]
    }
   ],
   "source": [
    "print(model.score(X_test,y_test))"
   ]
  }
 ],
 "metadata": {
  "kernelspec": {
   "display_name": "Python 3",
   "language": "python",
   "name": "python3"
  },
  "language_info": {
   "codemirror_mode": {
    "name": "ipython",
    "version": 3
   },
   "file_extension": ".py",
   "mimetype": "text/x-python",
   "name": "python",
   "nbconvert_exporter": "python",
   "pygments_lexer": "ipython3",
   "version": "3.6.8"
  }
 },
 "nbformat": 4,
 "nbformat_minor": 2
}
