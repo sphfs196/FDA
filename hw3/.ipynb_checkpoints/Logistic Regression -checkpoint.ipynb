{
 "cells": [
  {
   "cell_type": "markdown",
   "metadata": {},
   "source": [
    "https://www.quantinsti.com/blog/machine-learning-logistic-regression-python"
   ]
  },
  {
   "cell_type": "code",
   "execution_count": 1,
   "metadata": {},
   "outputs": [],
   "source": [
    "# Data Manupulation\n",
    "import numpy as np\n",
    "import pandas as pd\n",
    "\n",
    "# Techinical Indicators\n",
    "import talib as ta\n",
    "\n",
    "# Plotting graphs\n",
    "import matplotlib.pyplot as plt\n",
    "\n",
    "# Machine learning\n",
    "from sklearn.linear_model import LogisticRegression\n",
    "from sklearn import metrics\n",
    "\n"
   ]
  },
  {
   "cell_type": "code",
   "execution_count": 2,
   "metadata": {},
   "outputs": [],
   "source": [
    "from sklearn.model_selection import cross_validate"
   ]
  },
  {
   "cell_type": "code",
   "execution_count": 5,
   "metadata": {},
   "outputs": [],
   "source": [
    "\"\"\"\n",
    "Task: load the data into a variable named data\n",
    "\"\"\"\n",
    "file_name = 'training_data.csv'\n",
    "df = pd.read_csv(file_name, sep=',', index_col=0)\n",
    "df_2 = pd.read_csv(file_name)"
   ]
  },
  {
   "cell_type": "code",
   "execution_count": 8,
   "metadata": {},
   "outputs": [],
   "source": [
    "dates = [pd.Timestamp(date) for date in df_2['Date']]\n",
    "closes = np.array(df_2['Close Price'],dtype='float')"
   ]
  },
  {
   "cell_type": "code",
   "execution_count": 9,
   "metadata": {},
   "outputs": [
    {
     "name": "stderr",
     "output_type": "stream",
     "text": [
      "C:\\Users\\Mimori\\Anaconda3\\envs\\FDA\\lib\\site-packages\\pandas\\plotting\\_converter.py:129: FutureWarning: Using an implicitly registered datetime converter for a matplotlib plotting method. The converter was registered by pandas on import. Future versions of pandas will require you to explicitly register matplotlib converters.\n",
      "\n",
      "To register the converters:\n",
      "\t>>> from pandas.plotting import register_matplotlib_converters\n",
      "\t>>> register_matplotlib_converters()\n",
      "  warnings.warn(msg, FutureWarning)\n"
     ]
    },
    {
     "data": {
      "image/png": "[encoded data removed]",
      "text/plain": [
       "<Figure size 432x288 with 1 Axes>"
      ]
     },
     "metadata": {
      "needs_background": "light"
     },
     "output_type": "display_data"
    }
   ],
   "source": [
    "plt.scatter(dates, closes)\n",
    "plt.show()"
   ]
  },
  {
   "cell_type": "code",
   "execution_count": 13,
   "metadata": {},
   "outputs": [
    {
     "data": {
      "text/html": [
       "<div>\n",
       "<style scoped>\n",
       "    .dataframe tbody tr th:only-of-type {\n",
       "        vertical-align: middle;\n",
       "    }\n",
       "\n",
       "    .dataframe tbody tr th {\n",
       "        vertical-align: top;\n",
       "    }\n",
       "\n",
       "    .dataframe thead th {\n",
       "        text-align: right;\n",
       "    }\n",
       "</style>\n",
       "<table border=\"1\" class=\"dataframe\">\n",
       "  <thead>\n",
       "    <tr style=\"text-align: right;\">\n",
       "      <th></th>\n",
       "      <th>Open Price</th>\n",
       "      <th>Close Price</th>\n",
       "      <th>High Price</th>\n",
       "      <th>Low Price</th>\n",
       "      <th>Volume</th>\n",
       "    </tr>\n",
       "    <tr>\n",
       "      <th>Date</th>\n",
       "      <th></th>\n",
       "      <th></th>\n",
       "      <th></th>\n",
       "      <th></th>\n",
       "      <th></th>\n",
       "    </tr>\n",
       "  </thead>\n",
       "  <tbody>\n",
       "    <tr>\n",
       "      <th>02-Jan-2009</th>\n",
       "      <td>902.99</td>\n",
       "      <td>931.80</td>\n",
       "      <td>934.73</td>\n",
       "      <td>899.35</td>\n",
       "      <td>4048270080</td>\n",
       "    </tr>\n",
       "    <tr>\n",
       "      <th>05-Jan-2009</th>\n",
       "      <td>929.17</td>\n",
       "      <td>927.45</td>\n",
       "      <td>936.63</td>\n",
       "      <td>919.53</td>\n",
       "      <td>5413910016</td>\n",
       "    </tr>\n",
       "    <tr>\n",
       "      <th>06-Jan-2009</th>\n",
       "      <td>931.17</td>\n",
       "      <td>934.70</td>\n",
       "      <td>943.85</td>\n",
       "      <td>927.28</td>\n",
       "      <td>5392620032</td>\n",
       "    </tr>\n",
       "    <tr>\n",
       "      <th>07-Jan-2009</th>\n",
       "      <td>927.45</td>\n",
       "      <td>906.65</td>\n",
       "      <td>927.45</td>\n",
       "      <td>902.37</td>\n",
       "      <td>4704940032</td>\n",
       "    </tr>\n",
       "    <tr>\n",
       "      <th>08-Jan-2009</th>\n",
       "      <td>905.73</td>\n",
       "      <td>909.73</td>\n",
       "      <td>910.00</td>\n",
       "      <td>896.81</td>\n",
       "      <td>4991549952</td>\n",
       "    </tr>\n",
       "  </tbody>\n",
       "</table>\n",
       "</div>"
      ],
      "text/plain": [
       "             Open Price  Close Price  High Price  Low Price      Volume\n",
       "Date                                                                   \n",
       "02-Jan-2009      902.99       931.80      934.73     899.35  4048270080\n",
       "05-Jan-2009      929.17       927.45      936.63     919.53  5413910016\n",
       "06-Jan-2009      931.17       934.70      943.85     927.28  5392620032\n",
       "07-Jan-2009      927.45       906.65      927.45     902.37  4704940032\n",
       "08-Jan-2009      905.73       909.73      910.00     896.81  4991549952"
      ]
     },
     "execution_count": 13,
     "metadata": {},
     "output_type": "execute_result"
    }
   ],
   "source": [
    "df.head()"
   ]
  },
  {
   "cell_type": "code",
   "execution_count": 10,
   "metadata": {},
   "outputs": [],
   "source": [
    "df['S_10'] = df['Close Price'].rolling(window=10).mean()\n",
    "df['Corr'] = df['Close Price'].rolling(window=10).corr(df['S_10'])\n",
    "df['RSI'] = ta.RSI(np.array(df['Close Price']), timeperiod =10)\n",
    "df['Open-Close'] = df['Open Price'] - df['Close Price'].shift(1)\n",
    "df['Open-Open'] = df['Open Price'] - df['Open Price'].shift(1)\n",
    "df = df.dropna()\n",
    "X_train = df.iloc[:,:10]"
   ]
  },
  {
   "cell_type": "code",
   "execution_count": 11,
   "metadata": {},
   "outputs": [],
   "source": [
    "# y=1 : 明天的close > 今天的close(上漲), y=-1 : 明天的close < 今天的close(下跌)\n",
    "y_train = np.where (df['Close Price'].shift(-1) > df['Close Price'],1,-1)\n"
   ]
  },
  {
   "cell_type": "code",
   "execution_count": 16,
   "metadata": {},
   "outputs": [
    {
     "data": {
      "text/plain": [
       "{-1: 1020, 1: 1226}"
      ]
     },
     "execution_count": 16,
     "metadata": {},
     "output_type": "execute_result"
    }
   ],
   "source": [
    "unique, counts = np.unique(y_train, return_counts=True)\n",
    "dict(zip(unique, counts))"
   ]
  },
  {
   "cell_type": "code",
   "execution_count": 17,
   "metadata": {},
   "outputs": [],
   "source": [
    "file_name = 'testing_data.csv'\n",
    "df_test = pd.read_csv(file_name, sep=',', index_col=0)"
   ]
  },
  {
   "cell_type": "code",
   "execution_count": 18,
   "metadata": {},
   "outputs": [],
   "source": [
    "df_test['S_10'] = df_test['Close Price'].rolling(window=10).mean()\n",
    "df_test['Corr'] = df_test['Close Price'].rolling(window=10).corr(df_test['S_10'])\n",
    "df_test['RSI'] = ta.RSI(np.array(df_test['Close Price']), timeperiod =10)\n",
    "df_test['Open-Close'] = df_test['Open Price'] - df_test['Close Price'].shift(1)\n",
    "df_test['Open-Open'] = df_test['Open Price'] - df_test['Open Price'].shift(1)\n",
    "df_test = df_test.dropna()\n",
    "X_test = df_test.iloc[:,:10]"
   ]
  },
  {
   "cell_type": "code",
   "execution_count": 19,
   "metadata": {},
   "outputs": [],
   "source": [
    "y_test = np.where (df_test['Close Price'].shift(-1) > df_test['Close Price'],1,-1)"
   ]
  },
  {
   "cell_type": "code",
   "execution_count": 20,
   "metadata": {},
   "outputs": [
    {
     "data": {
      "text/plain": [
       "{-1: 116, 1: 118}"
      ]
     },
     "execution_count": 20,
     "metadata": {},
     "output_type": "execute_result"
    }
   ],
   "source": [
    "unique, counts = np.unique(y_test, return_counts=True)\n",
    "dict(zip(unique, counts))"
   ]
  },
  {
   "cell_type": "code",
   "execution_count": 25,
   "metadata": {},
   "outputs": [
    {
     "data": {
      "text/plain": [
       "2228"
      ]
     },
     "execution_count": 25,
     "metadata": {},
     "output_type": "execute_result"
    }
   ],
   "source": [
    "len(y)"
   ]
  },
  {
   "cell_type": "code",
   "execution_count": 21,
   "metadata": {},
   "outputs": [
    {
     "name": "stderr",
     "output_type": "stream",
     "text": [
      "C:\\Users\\Mimori\\Anaconda3\\envs\\FDA\\lib\\site-packages\\sklearn\\linear_model\\logistic.py:433: FutureWarning: Default solver will be changed to 'lbfgs' in 0.22. Specify a solver to silence this warning.\n",
      "  FutureWarning)\n"
     ]
    }
   ],
   "source": [
    "model = LogisticRegression()\n",
    "\n",
    "model = model.fit (X_train,y_train)"
   ]
  },
  {
   "cell_type": "code",
   "execution_count": 32,
   "metadata": {},
   "outputs": [
    {
     "data": {
      "text/html": [
       "<div>\n",
       "<style scoped>\n",
       "    .dataframe tbody tr th:only-of-type {\n",
       "        vertical-align: middle;\n",
       "    }\n",
       "\n",
       "    .dataframe tbody tr th {\n",
       "        vertical-align: top;\n",
       "    }\n",
       "\n",
       "    .dataframe thead th {\n",
       "        text-align: right;\n",
       "    }\n",
       "</style>\n",
       "<table border=\"1\" class=\"dataframe\">\n",
       "  <thead>\n",
       "    <tr style=\"text-align: right;\">\n",
       "      <th></th>\n",
       "      <th>0</th>\n",
       "      <th>1</th>\n",
       "    </tr>\n",
       "  </thead>\n",
       "  <tbody>\n",
       "    <tr>\n",
       "      <th>0</th>\n",
       "      <td>Open Price</td>\n",
       "      <td>[3.186151884291833e-17]</td>\n",
       "    </tr>\n",
       "    <tr>\n",
       "      <th>1</th>\n",
       "      <td>Close Price</td>\n",
       "      <td>[3.1614271034965915e-17]</td>\n",
       "    </tr>\n",
       "    <tr>\n",
       "      <th>2</th>\n",
       "      <td>High Price</td>\n",
       "      <td>[3.189991129310002e-17]</td>\n",
       "    </tr>\n",
       "    <tr>\n",
       "      <th>3</th>\n",
       "      <td>Low Price</td>\n",
       "      <td>[3.159766127376342e-17]</td>\n",
       "    </tr>\n",
       "    <tr>\n",
       "      <th>4</th>\n",
       "      <td>Volume</td>\n",
       "      <td>[6.293121920532326e-11]</td>\n",
       "    </tr>\n",
       "    <tr>\n",
       "      <th>5</th>\n",
       "      <td>S_10</td>\n",
       "      <td>[3.194641968289765e-17]</td>\n",
       "    </tr>\n",
       "    <tr>\n",
       "      <th>6</th>\n",
       "      <td>Corr</td>\n",
       "      <td>[1.002225525280495e-20]</td>\n",
       "    </tr>\n",
       "    <tr>\n",
       "      <th>7</th>\n",
       "      <td>RSI</td>\n",
       "      <td>[9.106437638216317e-19]</td>\n",
       "    </tr>\n",
       "    <tr>\n",
       "      <th>8</th>\n",
       "      <td>Open-Close</td>\n",
       "      <td>[-1.9779836592518995e-20]</td>\n",
       "    </tr>\n",
       "    <tr>\n",
       "      <th>9</th>\n",
       "      <td>Open-Open</td>\n",
       "      <td>[6.52558488278725e-20]</td>\n",
       "    </tr>\n",
       "  </tbody>\n",
       "</table>\n",
       "</div>"
      ],
      "text/plain": [
       "             0                          1\n",
       "0   Open Price    [3.186151884291833e-17]\n",
       "1  Close Price   [3.1614271034965915e-17]\n",
       "2   High Price    [3.189991129310002e-17]\n",
       "3    Low Price    [3.159766127376342e-17]\n",
       "4       Volume    [6.293121920532326e-11]\n",
       "5         S_10    [3.194641968289765e-17]\n",
       "6         Corr    [1.002225525280495e-20]\n",
       "7          RSI    [9.106437638216317e-19]\n",
       "8   Open-Close  [-1.9779836592518995e-20]\n",
       "9    Open-Open     [6.52558488278725e-20]"
      ]
     },
     "execution_count": 32,
     "metadata": {},
     "output_type": "execute_result"
    }
   ],
   "source": [
    "pd.DataFrame(zip(X_train.columns, np.transpose(model.coef_)))"
   ]
  },
  {
   "cell_type": "code",
   "execution_count": 22,
   "metadata": {},
   "outputs": [],
   "source": [
    "probability = model.predict_proba(X_test)"
   ]
  },
  {
   "cell_type": "code",
   "execution_count": 23,
   "metadata": {},
   "outputs": [
    {
     "data": {
      "text/plain": [
       "array([[0.47094129, 0.52905871],\n",
       "       [0.46742097, 0.53257903],\n",
       "       [0.4631258 , 0.5368742 ],\n",
       "       [0.46650163, 0.53349837],\n",
       "       [0.4633988 , 0.5366012 ],\n",
       "       [0.45289706, 0.54710294],\n",
       "       [0.44649636, 0.55350364],\n",
       "       [0.46168474, 0.53831526],\n",
       "       [0.45589852, 0.54410148],\n",
       "       [0.44977565, 0.55022435],\n",
       "       [0.46418529, 0.53581471],\n",
       "       [0.47204548, 0.52795452],\n",
       "       [0.46740662, 0.53259338],\n",
       "       [0.46911487, 0.53088513],\n",
       "       [0.46996397, 0.53003603],\n",
       "       [0.47123678, 0.52876322],\n",
       "       [0.47000657, 0.52999343],\n",
       "       [0.47135897, 0.52864103],\n",
       "       [0.47426759, 0.52573241],\n",
       "       [0.47118202, 0.52881798],\n",
       "       [0.46766534, 0.53233466],\n",
       "       [0.46490854, 0.53509146],\n",
       "       [0.46204942, 0.53795058],\n",
       "       [0.46699897, 0.53300103],\n",
       "       [0.46794611, 0.53205389],\n",
       "       [0.47179737, 0.52820263],\n",
       "       [0.47147487, 0.52852513],\n",
       "       [0.47317276, 0.52682724],\n",
       "       [0.47120306, 0.52879694],\n",
       "       [0.47121992, 0.52878008],\n",
       "       [0.46961919, 0.53038081],\n",
       "       [0.47103055, 0.52896945],\n",
       "       [0.47303842, 0.52696158],\n",
       "       [0.4538645 , 0.5461355 ],\n",
       "       [0.4703852 , 0.5296148 ],\n",
       "       [0.4715979 , 0.5284021 ],\n",
       "       [0.47151583, 0.52848417],\n",
       "       [0.46619351, 0.53380649],\n",
       "       [0.46548118, 0.53451882],\n",
       "       [0.46722757, 0.53277243],\n",
       "       [0.46593811, 0.53406189],\n",
       "       [0.46547123, 0.53452877],\n",
       "       [0.46798219, 0.53201781],\n",
       "       [0.46647516, 0.53352484],\n",
       "       [0.47074096, 0.52925904],\n",
       "       [0.47002274, 0.52997726],\n",
       "       [0.47292807, 0.52707193],\n",
       "       [0.47094871, 0.52905129],\n",
       "       [0.47424453, 0.52575547],\n",
       "       [0.47087026, 0.52912974],\n",
       "       [0.47574683, 0.52425317],\n",
       "       [0.47343128, 0.52656872],\n",
       "       [0.47496071, 0.52503929],\n",
       "       [0.47433467, 0.52566533],\n",
       "       [0.47325895, 0.52674105],\n",
       "       [0.47233258, 0.52766742],\n",
       "       [0.47016614, 0.52983386],\n",
       "       [0.46826349, 0.53173651],\n",
       "       [0.4744928 , 0.5255072 ],\n",
       "       [0.46716319, 0.53283681],\n",
       "       [0.47030847, 0.52969153],\n",
       "       [0.46741126, 0.53258874],\n",
       "       [0.47168374, 0.52831626],\n",
       "       [0.4688635 , 0.5311365 ],\n",
       "       [0.47072855, 0.52927145],\n",
       "       [0.46816013, 0.53183987],\n",
       "       [0.46739548, 0.53260452],\n",
       "       [0.47364159, 0.52635841],\n",
       "       [0.47399922, 0.52600078],\n",
       "       [0.47131994, 0.52868006],\n",
       "       [0.47164096, 0.52835904],\n",
       "       [0.47537429, 0.52462571],\n",
       "       [0.47594075, 0.52405925],\n",
       "       [0.47524443, 0.52475557],\n",
       "       [0.47343067, 0.52656933],\n",
       "       [0.47523935, 0.52476065],\n",
       "       [0.47356677, 0.52643323],\n",
       "       [0.4726541 , 0.5273459 ],\n",
       "       [0.47467965, 0.52532035],\n",
       "       [0.47227556, 0.52772444],\n",
       "       [0.47153858, 0.52846142],\n",
       "       [0.47317267, 0.52682733],\n",
       "       [0.47682479, 0.52317521],\n",
       "       [0.46962905, 0.53037095],\n",
       "       [0.47254382, 0.52745618],\n",
       "       [0.46343755, 0.53656245],\n",
       "       [0.47346334, 0.52653666],\n",
       "       [0.47382916, 0.52617084],\n",
       "       [0.47334234, 0.52665766],\n",
       "       [0.4717027 , 0.5282973 ],\n",
       "       [0.47198447, 0.52801553],\n",
       "       [0.47599903, 0.52400097],\n",
       "       [0.47513586, 0.52486414],\n",
       "       [0.47380721, 0.52619279],\n",
       "       [0.46793449, 0.53206551],\n",
       "       [0.47075881, 0.52924119],\n",
       "       [0.45376765, 0.54623235],\n",
       "       [0.47328869, 0.52671131],\n",
       "       [0.47130481, 0.52869519],\n",
       "       [0.47100158, 0.52899842],\n",
       "       [0.47127355, 0.52872645],\n",
       "       [0.46131181, 0.53868819],\n",
       "       [0.46828787, 0.53171213],\n",
       "       [0.47007361, 0.52992639],\n",
       "       [0.46901851, 0.53098149],\n",
       "       [0.47154361, 0.52845639],\n",
       "       [0.4697206 , 0.5302794 ],\n",
       "       [0.47597768, 0.52402232],\n",
       "       [0.48439084, 0.51560916],\n",
       "       [0.4766387 , 0.5233613 ],\n",
       "       [0.4789509 , 0.5210491 ],\n",
       "       [0.47629845, 0.52370155],\n",
       "       [0.47678782, 0.52321218],\n",
       "       [0.4751923 , 0.5248077 ],\n",
       "       [0.47474437, 0.52525563],\n",
       "       [0.47614199, 0.52385801],\n",
       "       [0.47571631, 0.52428369],\n",
       "       [0.47482348, 0.52517652],\n",
       "       [0.47366915, 0.52633085],\n",
       "       [0.47118693, 0.52881307],\n",
       "       [0.47197915, 0.52802085],\n",
       "       [0.47506202, 0.52493798],\n",
       "       [0.47076292, 0.52923708],\n",
       "       [0.46926406, 0.53073594],\n",
       "       [0.46733334, 0.53266666],\n",
       "       [0.46995883, 0.53004117],\n",
       "       [0.47179756, 0.52820244],\n",
       "       [0.4681042 , 0.5318958 ],\n",
       "       [0.47058608, 0.52941392],\n",
       "       [0.47288206, 0.52711794],\n",
       "       [0.47531739, 0.52468261],\n",
       "       [0.47666373, 0.52333627],\n",
       "       [0.47625271, 0.52374729],\n",
       "       [0.47804229, 0.52195771],\n",
       "       [0.47705845, 0.52294155],\n",
       "       [0.47548427, 0.52451573],\n",
       "       [0.47570203, 0.52429797],\n",
       "       [0.47707345, 0.52292655],\n",
       "       [0.47070439, 0.52929561],\n",
       "       [0.47370053, 0.52629947],\n",
       "       [0.47477408, 0.52522592],\n",
       "       [0.47757457, 0.52242543],\n",
       "       [0.47509807, 0.52490193],\n",
       "       [0.47846164, 0.52153836],\n",
       "       [0.47890333, 0.52109667],\n",
       "       [0.47942889, 0.52057111],\n",
       "       [0.47634881, 0.52365119],\n",
       "       [0.47855664, 0.52144336],\n",
       "       [0.47813149, 0.52186851],\n",
       "       [0.47724808, 0.52275192],\n",
       "       [0.47622018, 0.52377982],\n",
       "       [0.47475363, 0.52524637],\n",
       "       [0.47211667, 0.52788333],\n",
       "       [0.47372346, 0.52627654],\n",
       "       [0.47499412, 0.52500588],\n",
       "       [0.47787568, 0.52212432],\n",
       "       [0.47654799, 0.52345201],\n",
       "       [0.47403292, 0.52596708],\n",
       "       [0.47422279, 0.52577721],\n",
       "       [0.4767572 , 0.5232428 ],\n",
       "       [0.47731322, 0.52268678],\n",
       "       [0.47557865, 0.52442135],\n",
       "       [0.47521258, 0.52478742],\n",
       "       [0.47260675, 0.52739325],\n",
       "       [0.44922863, 0.55077137],\n",
       "       [0.47272883, 0.52727117],\n",
       "       [0.4738845 , 0.5261155 ],\n",
       "       [0.47280832, 0.52719168],\n",
       "       [0.47600992, 0.52399008],\n",
       "       [0.47229889, 0.52770111],\n",
       "       [0.47234522, 0.52765478],\n",
       "       [0.47387859, 0.52612141],\n",
       "       [0.4736263 , 0.5263737 ],\n",
       "       [0.47227217, 0.52772783],\n",
       "       [0.47281516, 0.52718484],\n",
       "       [0.4737742 , 0.5262258 ],\n",
       "       [0.47192493, 0.52807507],\n",
       "       [0.46251095, 0.53748905],\n",
       "       [0.4569065 , 0.5430935 ],\n",
       "       [0.46507371, 0.53492629],\n",
       "       [0.47315673, 0.52684327],\n",
       "       [0.47177269, 0.52822731],\n",
       "       [0.47225793, 0.52774207],\n",
       "       [0.4690731 , 0.5309269 ],\n",
       "       [0.46822545, 0.53177455],\n",
       "       [0.4714023 , 0.5285977 ],\n",
       "       [0.46334243, 0.53665757],\n",
       "       [0.45909   , 0.54091   ],\n",
       "       [0.46204561, 0.53795439],\n",
       "       [0.45740692, 0.54259308],\n",
       "       [0.46152652, 0.53847348],\n",
       "       [0.4553923 , 0.5446077 ],\n",
       "       [0.45765076, 0.54234924],\n",
       "       [0.46373619, 0.53626381],\n",
       "       [0.46270907, 0.53729093],\n",
       "       [0.4711871 , 0.5288129 ],\n",
       "       [0.47315175, 0.52684825],\n",
       "       [0.46884773, 0.53115227],\n",
       "       [0.4710399 , 0.5289601 ],\n",
       "       [0.46680356, 0.53319644],\n",
       "       [0.46822498, 0.53177502],\n",
       "       [0.46765215, 0.53234785],\n",
       "       [0.46513399, 0.53486601],\n",
       "       [0.46431056, 0.53568944],\n",
       "       [0.46495923, 0.53504077],\n",
       "       [0.46695421, 0.53304579],\n",
       "       [0.46167788, 0.53832212],\n",
       "       [0.47292905, 0.52707095],\n",
       "       [0.4867339 , 0.5132661 ],\n",
       "       [0.47056634, 0.52943366],\n",
       "       [0.47145188, 0.52854812],\n",
       "       [0.46785853, 0.53214147],\n",
       "       [0.47246462, 0.52753538],\n",
       "       [0.46059626, 0.53940374],\n",
       "       [0.46451676, 0.53548324],\n",
       "       [0.46084501, 0.53915499],\n",
       "       [0.46022081, 0.53977919],\n",
       "       [0.45667036, 0.54332964],\n",
       "       [0.46579148, 0.53420852],\n",
       "       [0.46610516, 0.53389484],\n",
       "       [0.46876784, 0.53123216],\n",
       "       [0.46791105, 0.53208895],\n",
       "       [0.4687858 , 0.5312142 ],\n",
       "       [0.46617287, 0.53382713],\n",
       "       [0.4622087 , 0.5377913 ],\n",
       "       [0.46346486, 0.53653514],\n",
       "       [0.45517112, 0.54482888],\n",
       "       [0.45232541, 0.54767459],\n",
       "       [0.43675659, 0.56324341],\n",
       "       [0.47683218, 0.52316782],\n",
       "       [0.46364598, 0.53635402],\n",
       "       [0.46677371, 0.53322629],\n",
       "       [0.47102022, 0.52897978],\n",
       "       [0.4733561 , 0.5266439 ]])"
      ]
     },
     "execution_count": 23,
     "metadata": {},
     "output_type": "execute_result"
    }
   ],
   "source": [
    "probability"
   ]
  },
  {
   "cell_type": "code",
   "execution_count": 24,
   "metadata": {},
   "outputs": [],
   "source": [
    "predicted = model.predict(X_test)"
   ]
  },
  {
   "cell_type": "code",
   "execution_count": 25,
   "metadata": {},
   "outputs": [
    {
     "name": "stdout",
     "output_type": "stream",
     "text": [
      "[1 1 1 1 1 1 1 1 1 1 1 1 1 1 1 1 1 1 1 1 1 1 1 1 1 1 1 1 1 1 1 1 1 1 1 1 1\n",
      " 1 1 1 1 1 1 1 1 1 1 1 1 1 1 1 1 1 1 1 1 1 1 1 1 1 1 1 1 1 1 1 1 1 1 1 1 1\n",
      " 1 1 1 1 1 1 1 1 1 1 1 1 1 1 1 1 1 1 1 1 1 1 1 1 1 1 1 1 1 1 1 1 1 1 1 1 1\n",
      " 1 1 1 1 1 1 1 1 1 1 1 1 1 1 1 1 1 1 1 1 1 1 1 1 1 1 1 1 1 1 1 1 1 1 1 1 1\n",
      " 1 1 1 1 1 1 1 1 1 1 1 1 1 1 1 1 1 1 1 1 1 1 1 1 1 1 1 1 1 1 1 1 1 1 1 1 1\n",
      " 1 1 1 1 1 1 1 1 1 1 1 1 1 1 1 1 1 1 1 1 1 1 1 1 1 1 1 1 1 1 1 1 1 1 1 1 1\n",
      " 1 1 1 1 1 1 1 1 1 1 1 1]\n"
     ]
    }
   ],
   "source": [
    "print(predicted)"
   ]
  },
  {
   "cell_type": "code",
   "execution_count": 26,
   "metadata": {},
   "outputs": [
    {
     "name": "stdout",
     "output_type": "stream",
     "text": [
      "[[  0 116]\n",
      " [  0 118]]\n"
     ]
    }
   ],
   "source": [
    "print(metrics.confusion_matrix(y_test, predicted))"
   ]
  },
  {
   "cell_type": "code",
   "execution_count": 27,
   "metadata": {},
   "outputs": [
    {
     "name": "stdout",
     "output_type": "stream",
     "text": [
      "0.5042735042735043\n"
     ]
    }
   ],
   "source": [
    "print(model.score(X_test,y_test))"
   ]
  },
  {
   "cell_type": "code",
   "execution_count": 47,
   "metadata": {},
   "outputs": [
    {
     "ename": "NameError",
     "evalue": "name 'cross_val_score' is not defined",
     "output_type": "error",
     "traceback": [
      "\u001b[1;31m---------------------------------------------------------------------------\u001b[0m",
      "\u001b[1;31mNameError\u001b[0m                                 Traceback (most recent call last)",
      "\u001b[1;32m<ipython-input-47-6817ff1f6249>\u001b[0m in \u001b[0;36m<module>\u001b[1;34m\u001b[0m\n\u001b[1;32m----> 1\u001b[1;33m \u001b[0mcross_val\u001b[0m \u001b[1;33m=\u001b[0m \u001b[0mcross_val_score\u001b[0m\u001b[1;33m(\u001b[0m\u001b[0mLogisticRegression\u001b[0m\u001b[1;33m(\u001b[0m\u001b[1;33m)\u001b[0m\u001b[1;33m,\u001b[0m \u001b[0mX\u001b[0m\u001b[1;33m,\u001b[0m \u001b[0my\u001b[0m\u001b[1;33m,\u001b[0m \u001b[0mscoring\u001b[0m\u001b[1;33m=\u001b[0m\u001b[1;34m'accuracy'\u001b[0m\u001b[1;33m,\u001b[0m \u001b[0mcv\u001b[0m\u001b[1;33m=\u001b[0m\u001b[1;36m10\u001b[0m\u001b[1;33m)\u001b[0m\u001b[1;33m\u001b[0m\u001b[1;33m\u001b[0m\u001b[0m\n\u001b[0m",
      "\u001b[1;31mNameError\u001b[0m: name 'cross_val_score' is not defined"
     ]
    }
   ],
   "source": [
    "cross_val = cross_val_score(LogisticRegression(), X, y, scoring='accuracy', cv=10)"
   ]
  },
  {
   "cell_type": "code",
   "execution_count": 54,
   "metadata": {},
   "outputs": [],
   "source": [
    "data = pd.concat([df, df_test], axis=0)\n",
    "data_y = np.where (data['Close Price'].shift(-1) > data['Close Price'],1,-1)"
   ]
  },
  {
   "cell_type": "code",
   "execution_count": 56,
   "metadata": {},
   "outputs": [
    {
     "name": "stderr",
     "output_type": "stream",
     "text": [
      "C:\\Users\\Mimori\\Anaconda3\\envs\\FDA\\lib\\site-packages\\sklearn\\linear_model\\logistic.py:433: FutureWarning: Default solver will be changed to 'lbfgs' in 0.22. Specify a solver to silence this warning.\n",
      "  FutureWarning)\n",
      "C:\\Users\\Mimori\\Anaconda3\\envs\\FDA\\lib\\site-packages\\sklearn\\linear_model\\logistic.py:433: FutureWarning: Default solver will be changed to 'lbfgs' in 0.22. Specify a solver to silence this warning.\n",
      "  FutureWarning)\n",
      "C:\\Users\\Mimori\\Anaconda3\\envs\\FDA\\lib\\site-packages\\sklearn\\linear_model\\logistic.py:433: FutureWarning: Default solver will be changed to 'lbfgs' in 0.22. Specify a solver to silence this warning.\n",
      "  FutureWarning)\n",
      "C:\\Users\\Mimori\\Anaconda3\\envs\\FDA\\lib\\site-packages\\sklearn\\linear_model\\logistic.py:433: FutureWarning: Default solver will be changed to 'lbfgs' in 0.22. Specify a solver to silence this warning.\n",
      "  FutureWarning)\n",
      "C:\\Users\\Mimori\\Anaconda3\\envs\\FDA\\lib\\site-packages\\sklearn\\linear_model\\logistic.py:433: FutureWarning: Default solver will be changed to 'lbfgs' in 0.22. Specify a solver to silence this warning.\n",
      "  FutureWarning)\n",
      "C:\\Users\\Mimori\\Anaconda3\\envs\\FDA\\lib\\site-packages\\sklearn\\linear_model\\logistic.py:433: FutureWarning: Default solver will be changed to 'lbfgs' in 0.22. Specify a solver to silence this warning.\n",
      "  FutureWarning)\n",
      "C:\\Users\\Mimori\\Anaconda3\\envs\\FDA\\lib\\site-packages\\sklearn\\linear_model\\logistic.py:433: FutureWarning: Default solver will be changed to 'lbfgs' in 0.22. Specify a solver to silence this warning.\n",
      "  FutureWarning)\n",
      "C:\\Users\\Mimori\\Anaconda3\\envs\\FDA\\lib\\site-packages\\sklearn\\linear_model\\logistic.py:433: FutureWarning: Default solver will be changed to 'lbfgs' in 0.22. Specify a solver to silence this warning.\n",
      "  FutureWarning)\n",
      "C:\\Users\\Mimori\\Anaconda3\\envs\\FDA\\lib\\site-packages\\sklearn\\linear_model\\logistic.py:433: FutureWarning: Default solver will be changed to 'lbfgs' in 0.22. Specify a solver to silence this warning.\n",
      "  FutureWarning)\n",
      "C:\\Users\\Mimori\\Anaconda3\\envs\\FDA\\lib\\site-packages\\sklearn\\linear_model\\logistic.py:433: FutureWarning: Default solver will be changed to 'lbfgs' in 0.22. Specify a solver to silence this warning.\n",
      "  FutureWarning)\n"
     ]
    }
   ],
   "source": [
    "cross_val = cross_validate(LogisticRegression(), data, data_y, scoring='accuracy', cv=10)"
   ]
  },
  {
   "cell_type": "code",
   "execution_count": 59,
   "metadata": {},
   "outputs": [
    {
     "name": "stdout",
     "output_type": "stream",
     "text": [
      "{'fit_time': array([0.00398946, 0.0049839 , 0.004987  , 0.00399065, 0.00399017,\n",
      "       0.00302124, 0.0029583 , 0.00299144, 0.00299239, 0.00399208]), 'score_time': array([0.00099802, 0.00199461, 0.00199342, 0.00099802, 0.00199413,\n",
      "       0.00099707, 0.00099611, 0.00099802, 0.00099611, 0.00199127]), 'test_score': array([0.54285714, 0.54285714, 0.54285714, 0.54285714, 0.54285714,\n",
      "       0.54508197, 0.54508197, 0.54508197, 0.54508197, 0.54320988]), 'train_score': array([0.54388358, 0.54388358, 0.54388358, 0.54388358, 0.54388358,\n",
      "       0.54363636, 0.54363636, 0.54363636, 0.54363636, 0.54384371])}\n"
     ]
    }
   ],
   "source": [
    "print(cross_val)"
   ]
  }
 ],
 "metadata": {
  "kernelspec": {
   "display_name": "Python 3",
   "language": "python",
   "name": "python3"
  },
  "language_info": {
   "codemirror_mode": {
    "name": "ipython",
    "version": 3
   },
   "file_extension": ".py",
   "mimetype": "text/x-python",
   "name": "python",
   "nbconvert_exporter": "python",
   "pygments_lexer": "ipython3",
   "version": "3.6.8"
  }
 },
 "nbformat": 4,
 "nbformat_minor": 2
}
