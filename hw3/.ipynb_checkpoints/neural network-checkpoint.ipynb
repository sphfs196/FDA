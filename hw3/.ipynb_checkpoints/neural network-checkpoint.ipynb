{
 "cells": [
  {
   "cell_type": "code",
   "execution_count": 1,
   "metadata": {},
   "outputs": [],
   "source": [
    "# Data Manupulation\n",
    "import numpy as np\n",
    "import pandas as pd\n",
    "\n",
    "# Techinical Indicators\n",
    "import talib as ta\n",
    "\n",
    "# Plotting graphs\n",
    "import matplotlib.pyplot as plt\n",
    "\n",
    "# Machine learning\n",
    "from sklearn.linear_model import LogisticRegression\n",
    "from sklearn import metrics\n",
    "from sklearn import svm,preprocessing \n",
    "from sklearn.metrics import classification_report"
   ]
  },
  {
   "cell_type": "code",
   "execution_count": 2,
   "metadata": {},
   "outputs": [
    {
     "name": "stderr",
     "output_type": "stream",
     "text": [
      "Using TensorFlow backend.\n"
     ]
    }
   ],
   "source": [
    "from keras import models, layers, optimizers, regularizers\n",
    "import tensorflow as tf\n",
    "from tqdm import tqdm\n"
   ]
  },
  {
   "cell_type": "code",
   "execution_count": 3,
   "metadata": {},
   "outputs": [],
   "source": [
    "file_name = 'training_data.csv'\n",
    "#df = pd.read_csv(file_name, sep=',', index_col=0)\n",
    "df = pd.read_csv(file_name, index_col=0)\n",
    "'''\n",
    "df['S_10'] = df['Close Price'].rolling(window=10).mean()\n",
    "df['Corr'] = df['Close Price'].rolling(window=10).corr(df['S_10'])\n",
    "df['RSI'] = ta.RSI(np.array(df['Close Price']), timeperiod =10)\n",
    "df['Open-Close'] = df['Open Price'] - df['Close Price'].shift(1)\n",
    "df['Open-Open'] = df['Open Price'] - df['Open Price'].shift(1)\n",
    "df = df.dropna()\n",
    "X_train = df.iloc[:,:10]\n",
    "'''\n",
    "X_train = df\n",
    "# y=1 : 明天的close > 今天的close(上漲), y=-1 : 明天的close < 今天的close(下跌)\n",
    "y_train = np.where (df['Close Price'].shift(-1) > df['Close Price'],1,-1)"
   ]
  },
  {
   "cell_type": "code",
   "execution_count": 4,
   "metadata": {},
   "outputs": [],
   "source": [
    "file_name = 'testing_data.csv'\n",
    "#df_test = pd.read_csv(file_name, sep=',', index_col=0)\n",
    "df_test = pd.read_csv(file_name, index_col=0)\n",
    "'''\n",
    "df_test['S_10'] = df_test['Close Price'].rolling(window=10).mean()\n",
    "df_test['Corr'] = df_test['Close Price'].rolling(window=10).corr(df_test['S_10'])\n",
    "df_test['RSI'] = ta.RSI(np.array(df_test['Close Price']), timeperiod =10)\n",
    "df_test['Open-Close'] = df_test['Open Price'] - df_test['Close Price'].shift(1)\n",
    "df_test['Open-Open'] = df_test['Open Price'] - df_test['Open Price'].shift(1)\n",
    "df_test = df_test.dropna()\n",
    "X_test = df_test.iloc[:,:10]\n",
    "'''\n",
    "X_test = df_test\n",
    "# y=1 : 明天的close > 今天的close(上漲), y=-1 : 明天的close < 今天的close(下跌)\n",
    "y_test = np.where (df_test['Close Price'].shift(-1) > df_test['Close Price'],1,-1)\n"
   ]
  },
  {
   "cell_type": "code",
   "execution_count": 5,
   "metadata": {},
   "outputs": [],
   "source": [
    "# create nn model"
   ]
  },
  {
   "cell_type": "code",
   "execution_count": 6,
   "metadata": {},
   "outputs": [],
   "source": [
    "hidden_units = 5    # how many neurons in the hidden layer\n",
    "activation = 'relu'  # activation function for hidden layer\n",
    "l2 = 0.001           # regularization - how much we penalize large parameter values\n",
    "learning_rate = 0.1  # how big our steps are in gradient descent\n",
    "epochs = 20          # how many epochs to train for\n",
    "batch_size = 32      # how many samples to use for each gradient descent update"
   ]
  },
  {
   "cell_type": "code",
   "execution_count": 7,
   "metadata": {},
   "outputs": [
    {
     "name": "stdout",
     "output_type": "stream",
     "text": [
      "WARNING:tensorflow:From C:\\Users\\Mimori\\Anaconda3\\envs\\FDA\\lib\\site-packages\\tensorflow\\python\\framework\\op_def_library.py:263: colocate_with (from tensorflow.python.framework.ops) is deprecated and will be removed in a future version.\n",
      "Instructions for updating:\n",
      "Colocations handled automatically by placer.\n"
     ]
    }
   ],
   "source": [
    "# create a sequential model\n",
    "model = models.Sequential()\n",
    "\n",
    "# add the hidden layer\n",
    "model.add(layers.Dense(input_dim=5,\n",
    "                       units=hidden_units, \n",
    "                       activation=activation))\n",
    "\n",
    "# add the output layer\n",
    "model.add(layers.Dense(input_dim=hidden_units,\n",
    "                       units=1,\n",
    "                       activation='sigmoid'))\n",
    "\n",
    "# define our loss function and optimizer\n",
    "model.compile(loss='binary_crossentropy',\n",
    "              # Adam is a kind of gradient descent\n",
    "              optimizer=optimizers.Adam(lr=learning_rate),\n",
    "              metrics=['accuracy'])"
   ]
  },
  {
   "cell_type": "code",
   "execution_count": 8,
   "metadata": {},
   "outputs": [],
   "source": [
    "class_weight = {\n",
    "    0: 1.,\n",
    "    1: 160 / 302\n",
    "}"
   ]
  },
  {
   "cell_type": "code",
   "execution_count": 9,
   "metadata": {},
   "outputs": [
    {
     "name": "stdout",
     "output_type": "stream",
     "text": [
      "WARNING:tensorflow:From C:\\Users\\Mimori\\Anaconda3\\envs\\FDA\\lib\\site-packages\\tensorflow\\python\\ops\\math_ops.py:3066: to_int32 (from tensorflow.python.ops.math_ops) is deprecated and will be removed in a future version.\n",
      "Instructions for updating:\n",
      "Use tf.cast instead.\n",
      "Epoch 1/100\n",
      "2264/2264 [==============================] - ETA: 11s - loss: 9.9640 - acc: 0.68 - ETA: 0s - loss: 14.7301 - acc: 0.53 - 0s 104us/step - loss: 14.4777 - acc: 0.5459\n",
      "Epoch 2/100\n",
      "2264/2264 [==============================] - ETA: 0s - loss: 13.9496 - acc: 0.56 - ETA: 0s - loss: 14.5545 - acc: 0.54 - 0s 30us/step - loss: 14.4777 - acc: 0.5459\n",
      "Epoch 3/100\n",
      "2264/2264 [==============================] - ETA: 0s - loss: 12.9532 - acc: 0.59 - ETA: 0s - loss: 14.4399 - acc: 0.54 - 0s 28us/step - loss: 14.4777 - acc: 0.5459\n",
      "Epoch 4/100\n",
      "2264/2264 [==============================] - ETA: 0s - loss: 10.9604 - acc: 0.65 - ETA: 0s - loss: 14.5614 - acc: 0.54 - 0s 29us/step - loss: 14.4777 - acc: 0.5459\n",
      "Epoch 5/100\n",
      "2264/2264 [==============================] - ETA: 0s - loss: 7.9712 - acc: 0.750 - ETA: 0s - loss: 14.3866 - acc: 0.54 - 0s 30us/step - loss: 14.4777 - acc: 0.5459\n",
      "Epoch 6/100\n",
      "2264/2264 [==============================] - ETA: 0s - loss: 11.9568 - acc: 0.62 - ETA: 0s - loss: 14.6305 - acc: 0.54 - 0s 29us/step - loss: 14.4777 - acc: 0.5459\n",
      "Epoch 7/100\n",
      "2264/2264 [==============================] - ETA: 0s - loss: 15.9424 - acc: 0.50 - ETA: 0s - loss: 14.4740 - acc: 0.54 - 0s 30us/step - loss: 14.4777 - acc: 0.5459\n",
      "Epoch 8/100\n",
      "2264/2264 [==============================] - ETA: 0s - loss: 13.9496 - acc: 0.56 - ETA: 0s - loss: 14.4156 - acc: 0.54 - 0s 28us/step - loss: 14.4777 - acc: 0.5459\n",
      "Epoch 9/100\n",
      "2264/2264 [==============================] - ETA: 0s - loss: 13.9496 - acc: 0.56 - ETA: 0s - loss: 14.4565 - acc: 0.54 - 0s 30us/step - loss: 14.4777 - acc: 0.5459\n",
      "Epoch 10/100\n",
      "2264/2264 [==============================] - ETA: 0s - loss: 11.9568 - acc: 0.62 - ETA: 0s - loss: 14.5924 - acc: 0.54 - 0s 27us/step - loss: 14.4777 - acc: 0.5459\n",
      "Epoch 11/100\n",
      "2264/2264 [==============================] - ETA: 0s - loss: 14.9460 - acc: 0.53 - ETA: 0s - loss: 14.4810 - acc: 0.54 - 0s 28us/step - loss: 14.4777 - acc: 0.5459\n",
      "Epoch 12/100\n",
      "2264/2264 [==============================] - ETA: 0s - loss: 12.9532 - acc: 0.59 - ETA: 0s - loss: 14.7371 - acc: 0.53 - 0s 28us/step - loss: 14.4777 - acc: 0.5459\n",
      "Epoch 13/100\n",
      "2264/2264 [==============================] - ETA: 0s - loss: 16.9388 - acc: 0.46 - ETA: 0s - loss: 14.2763 - acc: 0.55 - 0s 28us/step - loss: 14.4777 - acc: 0.5459\n",
      "Epoch 14/100\n",
      "2264/2264 [==============================] - ETA: 0s - loss: 13.9496 - acc: 0.56 - ETA: 0s - loss: 14.4396 - acc: 0.54 - 0s 27us/step - loss: 14.4777 - acc: 0.5459\n",
      "Epoch 15/100\n",
      "2264/2264 [==============================] - ETA: 0s - loss: 13.9496 - acc: 0.56 - ETA: 0s - loss: 14.6196 - acc: 0.54 - 0s 29us/step - loss: 14.4777 - acc: 0.5459\n",
      "Epoch 16/100\n",
      "2264/2264 [==============================] - ETA: 0s - loss: 9.9640 - acc: 0.687 - ETA: 0s - loss: 14.6139 - acc: 0.54 - 0s 30us/step - loss: 14.4777 - acc: 0.5459\n",
      "Epoch 17/100\n",
      "2264/2264 [==============================] - ETA: 0s - loss: 18.9316 - acc: 0.40 - ETA: 0s - loss: 14.3068 - acc: 0.55 - 0s 32us/step - loss: 14.4777 - acc: 0.5459\n",
      "Epoch 18/100\n",
      "2264/2264 [==============================] - ETA: 0s - loss: 13.9496 - acc: 0.56 - ETA: 0s - loss: 14.2873 - acc: 0.55 - 0s 29us/step - loss: 14.4777 - acc: 0.5459\n",
      "Epoch 19/100\n",
      "2264/2264 [==============================] - ETA: 0s - loss: 13.9496 - acc: 0.56 - ETA: 0s - loss: 14.5265 - acc: 0.54 - 0s 29us/step - loss: 14.4777 - acc: 0.5459\n",
      "Epoch 20/100\n",
      "2264/2264 [==============================] - ETA: 0s - loss: 17.9352 - acc: 0.43 - ETA: 0s - loss: 14.3068 - acc: 0.55 - 0s 31us/step - loss: 14.4777 - acc: 0.5459\n",
      "Epoch 21/100\n",
      "2264/2264 [==============================] - ETA: 0s - loss: 13.9496 - acc: 0.56 - ETA: 0s - loss: 14.5585 - acc: 0.54 - 0s 30us/step - loss: 14.4777 - acc: 0.5459\n",
      "Epoch 22/100\n",
      "2264/2264 [==============================] - ETA: 0s - loss: 12.9532 - acc: 0.59 - ETA: 0s - loss: 14.2975 - acc: 0.55 - 0s 28us/step - loss: 14.4777 - acc: 0.5459\n",
      "Epoch 23/100\n",
      "2264/2264 [==============================] - ETA: 0s - loss: 14.9460 - acc: 0.53 - ETA: 0s - loss: 14.5337 - acc: 0.54 - 0s 30us/step - loss: 14.4777 - acc: 0.5459\n",
      "Epoch 24/100\n",
      "2264/2264 [==============================] - ETA: 0s - loss: 17.9352 - acc: 0.43 - ETA: 0s - loss: 14.9084 - acc: 0.53 - 0s 31us/step - loss: 14.4777 - acc: 0.5459\n",
      "Epoch 25/100\n",
      "2264/2264 [==============================] - ETA: 0s - loss: 14.9460 - acc: 0.53 - ETA: 0s - loss: 14.6193 - acc: 0.54 - 0s 27us/step - loss: 14.4777 - acc: 0.5459\n",
      "Epoch 26/100\n",
      "2264/2264 [==============================] - ETA: 0s - loss: 14.9460 - acc: 0.53 - ETA: 0s - loss: 14.3608 - acc: 0.54 - 0s 28us/step - loss: 14.4777 - acc: 0.5459\n",
      "Epoch 27/100\n",
      "2264/2264 [==============================] - ETA: 0s - loss: 15.9424 - acc: 0.50 - ETA: 0s - loss: 14.4715 - acc: 0.54 - 0s 27us/step - loss: 14.4777 - acc: 0.5459\n",
      "Epoch 28/100\n",
      "2264/2264 [==============================] - ETA: 0s - loss: 15.9424 - acc: 0.50 - ETA: 0s - loss: 14.2684 - acc: 0.55 - 0s 34us/step - loss: 14.4777 - acc: 0.5459\n",
      "Epoch 29/100\n",
      "2264/2264 [==============================] - ETA: 0s - loss: 11.9568 - acc: 0.62 - ETA: 0s - loss: 14.5540 - acc: 0.54 - 0s 28us/step - loss: 14.4777 - acc: 0.5459\n",
      "Epoch 30/100\n",
      "2264/2264 [==============================] - ETA: 0s - loss: 18.9316 - acc: 0.40 - ETA: 0s - loss: 14.6290 - acc: 0.54 - 0s 26us/step - loss: 14.4777 - acc: 0.5459\n",
      "Epoch 31/100\n",
      "2264/2264 [==============================] - ETA: 0s - loss: 11.9568 - acc: 0.62 - ETA: 0s - loss: 14.3941 - acc: 0.54 - 0s 27us/step - loss: 14.4777 - acc: 0.5459\n",
      "Epoch 32/100\n",
      "2264/2264 [==============================] - ETA: 0s - loss: 15.9424 - acc: 0.50 - ETA: 0s - loss: 14.4478 - acc: 0.54 - 0s 32us/step - loss: 14.4777 - acc: 0.5459\n",
      "Epoch 33/100\n",
      "2264/2264 [==============================] - ETA: 0s - loss: 14.9460 - acc: 0.53 - ETA: 0s - loss: 14.5142 - acc: 0.54 - 0s 27us/step - loss: 14.4777 - acc: 0.5459\n",
      "Epoch 34/100\n",
      "2264/2264 [==============================] - ETA: 0s - loss: 12.9532 - acc: 0.59 - ETA: 0s - loss: 14.1987 - acc: 0.55 - 0s 34us/step - loss: 14.4777 - acc: 0.5459\n",
      "Epoch 35/100\n",
      "2264/2264 [==============================] - ETA: 0s - loss: 14.9460 - acc: 0.53 - ETA: 0s - loss: 14.3013 - acc: 0.55 - 0s 33us/step - loss: 14.4777 - acc: 0.5459\n",
      "Epoch 36/100\n",
      "2264/2264 [==============================] - ETA: 0s - loss: 11.9568 - acc: 0.62 - ETA: 0s - loss: 14.3699 - acc: 0.54 - 0s 27us/step - loss: 14.4777 - acc: 0.5459\n",
      "Epoch 37/100\n",
      "2264/2264 [==============================] - ETA: 0s - loss: 14.9460 - acc: 0.53 - ETA: 0s - loss: 14.4025 - acc: 0.54 - 0s 26us/step - loss: 14.4777 - acc: 0.5459\n",
      "Epoch 38/100\n",
      "2264/2264 [==============================] - ETA: 0s - loss: 15.9424 - acc: 0.50 - ETA: 0s - loss: 14.5640 - acc: 0.54 - 0s 28us/step - loss: 14.4777 - acc: 0.5459\n",
      "Epoch 39/100\n",
      "2264/2264 [==============================] - ETA: 0s - loss: 13.9496 - acc: 0.56 - ETA: 0s - loss: 14.5296 - acc: 0.54 - 0s 26us/step - loss: 14.4777 - acc: 0.5459\n",
      "Epoch 40/100\n",
      "2264/2264 [==============================] - ETA: 0s - loss: 8.9676 - acc: 0.718 - ETA: 0s - loss: 14.4763 - acc: 0.54 - 0s 25us/step - loss: 14.4777 - acc: 0.5459\n",
      "Epoch 41/100\n",
      "2264/2264 [==============================] - ETA: 0s - loss: 15.9424 - acc: 0.50 - ETA: 0s - loss: 14.4620 - acc: 0.54 - 0s 24us/step - loss: 14.4777 - acc: 0.5459\n",
      "Epoch 42/100\n",
      "2264/2264 [==============================] - ETA: 0s - loss: 14.9460 - acc: 0.53 - ETA: 0s - loss: 14.4763 - acc: 0.54 - 0s 24us/step - loss: 14.4777 - acc: 0.5459\n",
      "Epoch 43/100\n",
      "2264/2264 [==============================] - ETA: 0s - loss: 9.9640 - acc: 0.687 - ETA: 0s - loss: 14.4025 - acc: 0.54 - 0s 26us/step - loss: 14.4777 - acc: 0.5459\n",
      "Epoch 44/100\n",
      "2264/2264 [==============================] - ETA: 0s - loss: 13.9496 - acc: 0.56 - ETA: 0s - loss: 14.5014 - acc: 0.54 - 0s 27us/step - loss: 14.4777 - acc: 0.5459\n",
      "Epoch 45/100\n",
      "2264/2264 [==============================] - ETA: 0s - loss: 19.9280 - acc: 0.37 - ETA: 0s - loss: 14.5082 - acc: 0.54 - 0s 26us/step - loss: 14.4777 - acc: 0.5459\n"
     ]
    },
    {
     "name": "stdout",
     "output_type": "stream",
     "text": [
      "Epoch 46/100\n",
      "2264/2264 [==============================] - ETA: 0s - loss: 14.9460 - acc: 0.53 - ETA: 0s - loss: 14.5384 - acc: 0.54 - 0s 26us/step - loss: 14.4777 - acc: 0.5459\n",
      "Epoch 47/100\n",
      "2264/2264 [==============================] - ETA: 0s - loss: 10.9604 - acc: 0.65 - 0s 23us/step - loss: 14.4777 - acc: 0.5459\n",
      "Epoch 48/100\n",
      "2264/2264 [==============================] - ETA: 0s - loss: 15.9424 - acc: 0.50 - ETA: 0s - loss: 14.4998 - acc: 0.54 - 0s 26us/step - loss: 14.4777 - acc: 0.5459\n",
      "Epoch 49/100\n",
      "2264/2264 [==============================] - ETA: 0s - loss: 11.9568 - acc: 0.62 - ETA: 0s - loss: 14.5047 - acc: 0.54 - 0s 25us/step - loss: 14.4777 - acc: 0.5459\n",
      "Epoch 50/100\n",
      "2264/2264 [==============================] - ETA: 0s - loss: 16.9388 - acc: 0.46 - ETA: 0s - loss: 14.5190 - acc: 0.54 - 0s 25us/step - loss: 14.4777 - acc: 0.5459\n",
      "Epoch 51/100\n",
      "2264/2264 [==============================] - ETA: 0s - loss: 12.9532 - acc: 0.59 - ETA: 0s - loss: 14.4917 - acc: 0.54 - 0s 26us/step - loss: 14.4777 - acc: 0.5459\n",
      "Epoch 52/100\n",
      "2264/2264 [==============================] - ETA: 0s - loss: 13.9496 - acc: 0.56 - ETA: 0s - loss: 14.4983 - acc: 0.54 - 0s 25us/step - loss: 14.4777 - acc: 0.5459\n",
      "Epoch 53/100\n",
      "2264/2264 [==============================] - ETA: 0s - loss: 14.9460 - acc: 0.53 - 0s 23us/step - loss: 14.4777 - acc: 0.5459\n",
      "Epoch 54/100\n",
      "2264/2264 [==============================] - ETA: 0s - loss: 17.9352 - acc: 0.43 - ETA: 0s - loss: 14.5211 - acc: 0.54 - 0s 26us/step - loss: 14.4777 - acc: 0.5459\n",
      "Epoch 55/100\n",
      "2264/2264 [==============================] - ETA: 0s - loss: 8.9676 - acc: 0.718 - ETA: 0s - loss: 14.5047 - acc: 0.54 - 0s 25us/step - loss: 14.4777 - acc: 0.5459\n",
      "Epoch 56/100\n",
      "2264/2264 [==============================] - ETA: 0s - loss: 11.9568 - acc: 0.62 - ETA: 0s - loss: 14.2293 - acc: 0.55 - 0s 31us/step - loss: 14.4777 - acc: 0.5459\n",
      "Epoch 57/100\n",
      "2264/2264 [==============================] - ETA: 0s - loss: 8.9676 - acc: 0.718 - ETA: 0s - loss: 14.9692 - acc: 0.53 - 0s 38us/step - loss: 14.4777 - acc: 0.5459\n",
      "Epoch 58/100\n",
      "2264/2264 [==============================] - ETA: 0s - loss: 13.9496 - acc: 0.56 - ETA: 0s - loss: 14.1688 - acc: 0.55 - 0s 33us/step - loss: 14.4777 - acc: 0.5459\n",
      "Epoch 59/100\n",
      "2264/2264 [==============================] - ETA: 0s - loss: 15.9424 - acc: 0.50 - ETA: 0s - loss: 14.5509 - acc: 0.54 - 0s 28us/step - loss: 14.4777 - acc: 0.5459\n",
      "Epoch 60/100\n",
      "2264/2264 [==============================] - ETA: 0s - loss: 15.9424 - acc: 0.50 - ETA: 0s - loss: 14.5576 - acc: 0.54 - 0s 28us/step - loss: 14.4777 - acc: 0.5459\n",
      "Epoch 61/100\n",
      "2264/2264 [==============================] - ETA: 0s - loss: 11.9568 - acc: 0.62 - ETA: 0s - loss: 14.4731 - acc: 0.54 - 0s 28us/step - loss: 14.4777 - acc: 0.5459\n",
      "Epoch 62/100\n",
      "2264/2264 [==============================] - ETA: 0s - loss: 19.9280 - acc: 0.37 - ETA: 0s - loss: 14.6199 - acc: 0.54 - 0s 31us/step - loss: 14.4777 - acc: 0.5459\n",
      "Epoch 63/100\n",
      "2264/2264 [==============================] - ETA: 0s - loss: 19.9280 - acc: 0.37 - ETA: 0s - loss: 14.4146 - acc: 0.54 - 0s 28us/step - loss: 14.4777 - acc: 0.5459\n",
      "Epoch 64/100\n",
      "2264/2264 [==============================] - ETA: 0s - loss: 14.9460 - acc: 0.53 - ETA: 0s - loss: 14.8944 - acc: 0.53 - 0s 29us/step - loss: 14.4777 - acc: 0.5459\n",
      "Epoch 65/100\n",
      "2264/2264 [==============================] - ETA: 0s - loss: 14.9460 - acc: 0.53 - ETA: 0s - loss: 14.3104 - acc: 0.55 - 0s 31us/step - loss: 14.4777 - acc: 0.5459\n",
      "Epoch 66/100\n",
      "2264/2264 [==============================] - ETA: 0s - loss: 14.9460 - acc: 0.53 - ETA: 0s - loss: 14.1840 - acc: 0.55 - 0s 35us/step - loss: 14.4777 - acc: 0.5459\n",
      "Epoch 67/100\n",
      "2264/2264 [==============================] - ETA: 0s - loss: 15.9424 - acc: 0.50 - ETA: 0s - loss: 14.5972 - acc: 0.54 - 0s 30us/step - loss: 14.4777 - acc: 0.5459\n",
      "Epoch 68/100\n",
      "2264/2264 [==============================] - ETA: 0s - loss: 10.9604 - acc: 0.65 - ETA: 0s - loss: 14.6777 - acc: 0.53 - 0s 31us/step - loss: 14.4777 - acc: 0.5459\n",
      "Epoch 69/100\n",
      "2264/2264 [==============================] - ETA: 0s - loss: 19.9280 - acc: 0.37 - ETA: 0s - loss: 14.4976 - acc: 0.54 - 0s 29us/step - loss: 14.4777 - acc: 0.5459\n",
      "Epoch 70/100\n",
      "2264/2264 [==============================] - ETA: 0s - loss: 11.9568 - acc: 0.62 - ETA: 0s - loss: 14.3835 - acc: 0.54 - 0s 29us/step - loss: 14.4777 - acc: 0.5459\n",
      "Epoch 71/100\n",
      "2264/2264 [==============================] - ETA: 0s - loss: 13.9496 - acc: 0.56 - ETA: 0s - loss: 14.5112 - acc: 0.54 - 0s 31us/step - loss: 14.4777 - acc: 0.5459\n",
      "Epoch 72/100\n",
      "2264/2264 [==============================] - ETA: 0s - loss: 19.9280 - acc: 0.37 - ETA: 0s - loss: 14.5852 - acc: 0.54 - 0s 30us/step - loss: 14.4777 - acc: 0.5459\n",
      "Epoch 73/100\n",
      "2264/2264 [==============================] - ETA: 0s - loss: 14.9460 - acc: 0.53 - ETA: 0s - loss: 14.6313 - acc: 0.54 - 0s 31us/step - loss: 14.4777 - acc: 0.5459\n",
      "Epoch 74/100\n",
      "2264/2264 [==============================] - ETA: 0s - loss: 7.9712 - acc: 0.750 - ETA: 0s - loss: 14.4900 - acc: 0.54 - 0s 30us/step - loss: 14.4777 - acc: 0.5459\n",
      "Epoch 75/100\n",
      "2264/2264 [==============================] - ETA: 0s - loss: 14.9460 - acc: 0.53 - ETA: 0s - loss: 14.4478 - acc: 0.54 - 0s 30us/step - loss: 14.4777 - acc: 0.5459\n",
      "Epoch 76/100\n",
      "2264/2264 [==============================] - ETA: 0s - loss: 13.9496 - acc: 0.56 - ETA: 0s - loss: 14.3042 - acc: 0.55 - 0s 30us/step - loss: 14.4777 - acc: 0.5459\n",
      "Epoch 77/100\n",
      "2264/2264 [==============================] - ETA: 0s - loss: 11.9568 - acc: 0.62 - ETA: 0s - loss: 14.3835 - acc: 0.54 - 0s 28us/step - loss: 14.4777 - acc: 0.5459\n",
      "Epoch 78/100\n",
      "2264/2264 [==============================] - ETA: 0s - loss: 16.9388 - acc: 0.46 - ETA: 0s - loss: 14.6193 - acc: 0.54 - 0s 29us/step - loss: 14.4777 - acc: 0.5459\n",
      "Epoch 79/100\n",
      "2264/2264 [==============================] - ETA: 0s - loss: 13.9496 - acc: 0.56 - ETA: 0s - loss: 14.5614 - acc: 0.54 - 0s 30us/step - loss: 14.4777 - acc: 0.5459\n",
      "Epoch 80/100\n",
      "2264/2264 [==============================] - ETA: 0s - loss: 14.9460 - acc: 0.53 - ETA: 0s - loss: 14.7268 - acc: 0.53 - 0s 33us/step - loss: 14.4777 - acc: 0.5459\n",
      "Epoch 81/100\n",
      "2264/2264 [==============================] - ETA: 0s - loss: 18.9316 - acc: 0.40 - ETA: 0s - loss: 14.4599 - acc: 0.54 - 0s 41us/step - loss: 14.4777 - acc: 0.5459\n",
      "Epoch 82/100\n",
      "2264/2264 [==============================] - ETA: 0s - loss: 16.9388 - acc: 0.46 - ETA: 0s - loss: 14.1760 - acc: 0.55 - 0s 37us/step - loss: 14.4777 - acc: 0.5459\n",
      "Epoch 83/100\n",
      "2264/2264 [==============================] - ETA: 0s - loss: 15.9424 - acc: 0.50 - ETA: 0s - loss: 14.2817 - acc: 0.55 - 0s 38us/step - loss: 14.4777 - acc: 0.5459\n",
      "Epoch 84/100\n",
      "2264/2264 [==============================] - ETA: 0s - loss: 16.9388 - acc: 0.46 - ETA: 0s - loss: 14.5031 - acc: 0.54 - 0s 37us/step - loss: 14.4777 - acc: 0.5459\n",
      "Epoch 85/100\n",
      "2264/2264 [==============================] - ETA: 0s - loss: 8.9676 - acc: 0.718 - ETA: 0s - loss: 14.1081 - acc: 0.55 - 0s 39us/step - loss: 14.4777 - acc: 0.5459\n",
      "Epoch 86/100\n",
      "2264/2264 [==============================] - ETA: 0s - loss: 15.9424 - acc: 0.50 - ETA: 0s - loss: 14.6803 - acc: 0.53 - 0s 37us/step - loss: 14.4777 - acc: 0.5459\n",
      "Epoch 87/100\n",
      "2264/2264 [==============================] - ETA: 0s - loss: 16.9388 - acc: 0.46 - ETA: 0s - loss: 14.3119 - acc: 0.55 - 0s 37us/step - loss: 14.4777 - acc: 0.5459\n",
      "Epoch 88/100\n",
      "2264/2264 [==============================] - ETA: 0s - loss: 17.9352 - acc: 0.43 - ETA: 0s - loss: 14.7422 - acc: 0.53 - 0s 39us/step - loss: 14.4777 - acc: 0.5459\n",
      "Epoch 89/100\n",
      "2264/2264 [==============================] - ETA: 0s - loss: 17.9352 - acc: 0.43 - ETA: 0s - loss: 14.3648 - acc: 0.54 - 0s 35us/step - loss: 14.4777 - acc: 0.5459\n",
      "Epoch 90/100\n",
      "2264/2264 [==============================] - ETA: 0s - loss: 18.9316 - acc: 0.40 - ETA: 0s - loss: 14.3903 - acc: 0.54 - 0s 34us/step - loss: 14.4777 - acc: 0.5459\n",
      "Epoch 91/100\n",
      "2264/2264 [==============================] - ETA: 0s - loss: 14.9460 - acc: 0.53 - ETA: 0s - loss: 14.5723 - acc: 0.54 - 0s 34us/step - loss: 14.4777 - acc: 0.5459\n",
      "Epoch 92/100\n"
     ]
    },
    {
     "name": "stdout",
     "output_type": "stream",
     "text": [
      "2264/2264 [==============================] - ETA: 0s - loss: 14.9460 - acc: 0.53 - ETA: 0s - loss: 14.6139 - acc: 0.54 - 0s 34us/step - loss: 14.4777 - acc: 0.5459\n",
      "Epoch 93/100\n",
      "2264/2264 [==============================] - ETA: 0s - loss: 20.9244 - acc: 0.34 - ETA: 0s - loss: 14.7077 - acc: 0.53 - 0s 37us/step - loss: 14.4777 - acc: 0.5459\n",
      "Epoch 94/100\n",
      "2264/2264 [==============================] - ETA: 0s - loss: 12.9532 - acc: 0.59 - ETA: 0s - loss: 14.0362 - acc: 0.55 - 0s 37us/step - loss: 14.4777 - acc: 0.5459\n",
      "Epoch 95/100\n",
      "2264/2264 [==============================] - ETA: 0s - loss: 13.9496 - acc: 0.56 - ETA: 0s - loss: 14.5031 - acc: 0.54 - 0s 31us/step - loss: 14.4777 - acc: 0.5459\n",
      "Epoch 96/100\n",
      "2264/2264 [==============================] - ETA: 0s - loss: 14.9460 - acc: 0.53 - ETA: 0s - loss: 14.5090 - acc: 0.54 - 0s 30us/step - loss: 14.4777 - acc: 0.5459\n",
      "Epoch 97/100\n",
      "2264/2264 [==============================] - ETA: 0s - loss: 15.9424 - acc: 0.50 - ETA: 0s - loss: 14.6030 - acc: 0.54 - 0s 29us/step - loss: 14.4777 - acc: 0.5459\n",
      "Epoch 98/100\n",
      "2264/2264 [==============================] - ETA: 0s - loss: 20.9244 - acc: 0.34 - ETA: 0s - loss: 14.6139 - acc: 0.54 - 0s 28us/step - loss: 14.4777 - acc: 0.5459\n",
      "Epoch 99/100\n",
      "2264/2264 [==============================] - ETA: 0s - loss: 15.9424 - acc: 0.50 - ETA: 0s - loss: 14.5069 - acc: 0.54 - 0s 29us/step - loss: 14.4777 - acc: 0.5459\n",
      "Epoch 100/100\n",
      "2264/2264 [==============================] - ETA: 0s - loss: 15.9424 - acc: 0.50 - ETA: 0s - loss: 14.6539 - acc: 0.54 - 0s 30us/step - loss: 14.4777 - acc: 0.5459\n",
      "2264/2264 [==============================] - ETA:  - 0s 27us/step\n",
      "252/252 [==============================] - ETA:  - 0s 20us/step\n",
      "Training accuracy: 0.5459363958650258\n",
      "Testing accuracy: 0.5198412703143226\n"
     ]
    },
    {
     "data": {
      "image/png": "[encoded data removed]",
      "text/plain": [
       "<Figure size 432x288 with 1 Axes>"
      ]
     },
     "metadata": {
      "needs_background": "light"
     },
     "output_type": "display_data"
    }
   ],
   "source": [
    "# train the parameters\n",
    "history = model.fit(X_train, y_train, epochs=10, batch_size=batch_size)\n",
    "\n",
    "# evaluate accuracy\n",
    "train_acc = model.evaluate(X_train, y_train, batch_size=32)[1]\n",
    "test_acc = model.evaluate(X_test, y_test, batch_size=32)[1]\n",
    "print('Training accuracy: %s' % train_acc)\n",
    "print('Testing accuracy: %s' % test_acc)\n",
    "\n",
    "losses = history.history['loss']\n",
    "plt.plot(range(len(losses)), losses, 'r')\n",
    "plt.show()"
   ]
  },
  {
   "cell_type": "code",
   "execution_count": 10,
   "metadata": {},
   "outputs": [
    {
     "name": "stdout",
     "output_type": "stream",
     "text": [
      "Training accuracy: 0.5459363958650258\n",
      "Testing accuracy: 0.5198412703143226\n"
     ]
    }
   ],
   "source": [
    "print('Training accuracy: %s' % train_acc)\n",
    "print('Testing accuracy: %s' % test_acc)"
   ]
  },
  {
   "cell_type": "code",
   "execution_count": 11,
   "metadata": {},
   "outputs": [],
   "source": [
    "\n",
    "def train_and_evaluate(model, x_train, y_train, x_test, y_test, n=20):\n",
    "    train_accs = []\n",
    "    test_accs = []\n",
    "    with tqdm(total=n) as progress_bar:\n",
    "        for _ in range(n):\n",
    "            model.fit(\n",
    "                x_train, \n",
    "                y_train, \n",
    "                epochs=epochs, \n",
    "                batch_size=batch_size,  \n",
    "                verbose=False)\n",
    "            train_accs.append(model.evaluate(x_train, y_train, batch_size=32, verbose=False)[1])\n",
    "            test_accs.append(model.evaluate(x_test, y_test, batch_size=32, verbose=False)[1])\n",
    "            progress_bar.update()\n",
    "    print('Avgerage Training Accuracy: %s' % np.average(train_accs))\n",
    "    print('Avgerage Testing Accuracy: %s' % np.average(test_accs))\n",
    "    return train_accs, test_accs"
   ]
  },
  {
   "cell_type": "code",
   "execution_count": 12,
   "metadata": {},
   "outputs": [
    {
     "name": "stderr",
     "output_type": "stream",
     "text": [
      "100%|██████████| 20/20 [00:18<00:00,  1.02it/s]\n"
     ]
    },
    {
     "name": "stdout",
     "output_type": "stream",
     "text": [
      "Avgerage Training Accuracy: 0.5459363958650257\n",
      "Avgerage Testing Accuracy: 0.5198412703143227\n"
     ]
    }
   ],
   "source": [
    "_, test_accs = train_and_evaluate(model, X_train, y_train, X_test, y_test)"
   ]
  }
 ],
 "metadata": {
  "kernelspec": {
   "display_name": "Python 3",
   "language": "python",
   "name": "python3"
  },
  "language_info": {
   "codemirror_mode": {
    "name": "ipython",
    "version": 3
   },
   "file_extension": ".py",
   "mimetype": "text/x-python",
   "name": "python",
   "nbconvert_exporter": "python",
   "pygments_lexer": "ipython3",
   "version": "3.6.8"
  }
 },
 "nbformat": 4,
 "nbformat_minor": 2
}
