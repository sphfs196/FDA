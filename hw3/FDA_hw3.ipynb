{
 "cells": [
  {
   "cell_type": "code",
   "execution_count": 1,
   "metadata": {},
   "outputs": [],
   "source": [
    "# Data Manupulation\n",
    "import numpy as np\n",
    "import pandas as pd\n",
    "\n",
    "# Techinical Indicators\n",
    "import talib as ta\n",
    "\n",
    "# Plotting graphs\n",
    "import matplotlib.pyplot as plt\n",
    "\n",
    "# Machine learning\n",
    "from sklearn import metrics\n",
    "from sklearn.model_selection import cross_validate\n",
    "from sklearn.metrics import classification_report\n",
    "\n",
    "# logistic regression\n",
    "from sklearn.linear_model import LogisticRegression\n",
    "\n",
    "# svm\n",
    "from sklearn import svm, preprocessing"
   ]
  },
  {
   "cell_type": "code",
   "execution_count": 2,
   "metadata": {
    "scrolled": true
   },
   "outputs": [
    {
     "data": {
      "text/html": [
       "<div>\n",
       "<style scoped>\n",
       "    .dataframe tbody tr th:only-of-type {\n",
       "        vertical-align: middle;\n",
       "    }\n",
       "\n",
       "    .dataframe tbody tr th {\n",
       "        vertical-align: top;\n",
       "    }\n",
       "\n",
       "    .dataframe thead th {\n",
       "        text-align: right;\n",
       "    }\n",
       "</style>\n",
       "<table border=\"1\" class=\"dataframe\">\n",
       "  <thead>\n",
       "    <tr style=\"text-align: right;\">\n",
       "      <th></th>\n",
       "      <th>Date</th>\n",
       "      <th>Open Price</th>\n",
       "      <th>Close Price</th>\n",
       "      <th>High Price</th>\n",
       "      <th>Low Price</th>\n",
       "      <th>Volume</th>\n",
       "    </tr>\n",
       "  </thead>\n",
       "  <tbody>\n",
       "    <tr>\n",
       "      <th>0</th>\n",
       "      <td>02-Jan-2009</td>\n",
       "      <td>902.99</td>\n",
       "      <td>931.80</td>\n",
       "      <td>934.73</td>\n",
       "      <td>899.35</td>\n",
       "      <td>4048270080</td>\n",
       "    </tr>\n",
       "    <tr>\n",
       "      <th>1</th>\n",
       "      <td>05-Jan-2009</td>\n",
       "      <td>929.17</td>\n",
       "      <td>927.45</td>\n",
       "      <td>936.63</td>\n",
       "      <td>919.53</td>\n",
       "      <td>5413910016</td>\n",
       "    </tr>\n",
       "    <tr>\n",
       "      <th>2</th>\n",
       "      <td>06-Jan-2009</td>\n",
       "      <td>931.17</td>\n",
       "      <td>934.70</td>\n",
       "      <td>943.85</td>\n",
       "      <td>927.28</td>\n",
       "      <td>5392620032</td>\n",
       "    </tr>\n",
       "    <tr>\n",
       "      <th>3</th>\n",
       "      <td>07-Jan-2009</td>\n",
       "      <td>927.45</td>\n",
       "      <td>906.65</td>\n",
       "      <td>927.45</td>\n",
       "      <td>902.37</td>\n",
       "      <td>4704940032</td>\n",
       "    </tr>\n",
       "    <tr>\n",
       "      <th>4</th>\n",
       "      <td>08-Jan-2009</td>\n",
       "      <td>905.73</td>\n",
       "      <td>909.73</td>\n",
       "      <td>910.00</td>\n",
       "      <td>896.81</td>\n",
       "      <td>4991549952</td>\n",
       "    </tr>\n",
       "  </tbody>\n",
       "</table>\n",
       "</div>"
      ],
      "text/plain": [
       "          Date  Open Price  Close Price  High Price  Low Price      Volume\n",
       "0  02-Jan-2009      902.99       931.80      934.73     899.35  4048270080\n",
       "1  05-Jan-2009      929.17       927.45      936.63     919.53  5413910016\n",
       "2  06-Jan-2009      931.17       934.70      943.85     927.28  5392620032\n",
       "3  07-Jan-2009      927.45       906.65      927.45     902.37  4704940032\n",
       "4  08-Jan-2009      905.73       909.73      910.00     896.81  4991549952"
      ]
     },
     "execution_count": 2,
     "metadata": {},
     "output_type": "execute_result"
    }
   ],
   "source": [
    "# data\n",
    "data = pd.read_csv('training_data.csv')\n",
    "data.head()"
   ]
  },
  {
   "cell_type": "code",
   "execution_count": 3,
   "metadata": {},
   "outputs": [
    {
     "name": "stderr",
     "output_type": "stream",
     "text": [
      "C:\\Users\\Mimori\\Anaconda3\\envs\\FDA\\lib\\site-packages\\pandas\\plotting\\_converter.py:129: FutureWarning: Using an implicitly registered datetime converter for a matplotlib plotting method. The converter was registered by pandas on import. Future versions of pandas will require you to explicitly register matplotlib converters.\n",
      "\n",
      "To register the converters:\n",
      "\t>>> from pandas.plotting import register_matplotlib_converters\n",
      "\t>>> register_matplotlib_converters()\n",
      "  warnings.warn(msg, FutureWarning)\n"
     ]
    },
    {
     "data": {
      "image/png": "[encoded data removed]",
      "text/plain": [
       "<Figure size 432x288 with 1 Axes>"
      ]
     },
     "metadata": {
      "needs_background": "light"
     },
     "output_type": "display_data"
    }
   ],
   "source": [
    "dates = [pd.Timestamp(date) for date in data['Date']]\n",
    "closes = np.array(data['Close Price'],dtype='float')\n",
    "plt.scatter(dates, closes)\n",
    "plt.show()"
   ]
  },
  {
   "cell_type": "code",
   "execution_count": 4,
   "metadata": {},
   "outputs": [],
   "source": [
    "# 原本的資料直接訓練\n",
    "file_name = 'training_data.csv'\n",
    "df = pd.read_csv(file_name, index_col=0)\n",
    "x_train = df\n",
    "y_train = np.where (df['Close Price'].shift(-1) > df['Close Price'],1,-1)"
   ]
  },
  {
   "cell_type": "code",
   "execution_count": 5,
   "metadata": {},
   "outputs": [
    {
     "data": {
      "text/html": [
       "<div>\n",
       "<style scoped>\n",
       "    .dataframe tbody tr th:only-of-type {\n",
       "        vertical-align: middle;\n",
       "    }\n",
       "\n",
       "    .dataframe tbody tr th {\n",
       "        vertical-align: top;\n",
       "    }\n",
       "\n",
       "    .dataframe thead th {\n",
       "        text-align: right;\n",
       "    }\n",
       "</style>\n",
       "<table border=\"1\" class=\"dataframe\">\n",
       "  <thead>\n",
       "    <tr style=\"text-align: right;\">\n",
       "      <th></th>\n",
       "      <th>Open Price</th>\n",
       "      <th>Close Price</th>\n",
       "      <th>High Price</th>\n",
       "      <th>Low Price</th>\n",
       "      <th>Volume</th>\n",
       "    </tr>\n",
       "    <tr>\n",
       "      <th>Date</th>\n",
       "      <th></th>\n",
       "      <th></th>\n",
       "      <th></th>\n",
       "      <th></th>\n",
       "      <th></th>\n",
       "    </tr>\n",
       "  </thead>\n",
       "  <tbody>\n",
       "    <tr>\n",
       "      <th>02-Jan-2009</th>\n",
       "      <td>902.99</td>\n",
       "      <td>931.80</td>\n",
       "      <td>934.73</td>\n",
       "      <td>899.35</td>\n",
       "      <td>4048270080</td>\n",
       "    </tr>\n",
       "    <tr>\n",
       "      <th>05-Jan-2009</th>\n",
       "      <td>929.17</td>\n",
       "      <td>927.45</td>\n",
       "      <td>936.63</td>\n",
       "      <td>919.53</td>\n",
       "      <td>5413910016</td>\n",
       "    </tr>\n",
       "    <tr>\n",
       "      <th>06-Jan-2009</th>\n",
       "      <td>931.17</td>\n",
       "      <td>934.70</td>\n",
       "      <td>943.85</td>\n",
       "      <td>927.28</td>\n",
       "      <td>5392620032</td>\n",
       "    </tr>\n",
       "    <tr>\n",
       "      <th>07-Jan-2009</th>\n",
       "      <td>927.45</td>\n",
       "      <td>906.65</td>\n",
       "      <td>927.45</td>\n",
       "      <td>902.37</td>\n",
       "      <td>4704940032</td>\n",
       "    </tr>\n",
       "    <tr>\n",
       "      <th>08-Jan-2009</th>\n",
       "      <td>905.73</td>\n",
       "      <td>909.73</td>\n",
       "      <td>910.00</td>\n",
       "      <td>896.81</td>\n",
       "      <td>4991549952</td>\n",
       "    </tr>\n",
       "  </tbody>\n",
       "</table>\n",
       "</div>"
      ],
      "text/plain": [
       "             Open Price  Close Price  High Price  Low Price      Volume\n",
       "Date                                                                   \n",
       "02-Jan-2009      902.99       931.80      934.73     899.35  4048270080\n",
       "05-Jan-2009      929.17       927.45      936.63     919.53  5413910016\n",
       "06-Jan-2009      931.17       934.70      943.85     927.28  5392620032\n",
       "07-Jan-2009      927.45       906.65      927.45     902.37  4704940032\n",
       "08-Jan-2009      905.73       909.73      910.00     896.81  4991549952"
      ]
     },
     "execution_count": 5,
     "metadata": {},
     "output_type": "execute_result"
    }
   ],
   "source": [
    "x_train.head()"
   ]
  },
  {
   "cell_type": "code",
   "execution_count": 6,
   "metadata": {},
   "outputs": [
    {
     "data": {
      "text/plain": [
       "{-1: 1028, 1: 1236}"
      ]
     },
     "execution_count": 6,
     "metadata": {},
     "output_type": "execute_result"
    }
   ],
   "source": [
    "unique, counts = np.unique(y_train, return_counts=True)\n",
    "dict(zip(unique, counts))"
   ]
  },
  {
   "cell_type": "code",
   "execution_count": 7,
   "metadata": {},
   "outputs": [],
   "source": [
    "file_name = 'testing_data.csv'\n",
    "df_test = pd.read_csv(file_name, index_col=0)\n",
    "x_test = df_test\n",
    "y_test = np.where (df_test['Close Price'].shift(-1) > df_test['Close Price'],1,-1)"
   ]
  },
  {
   "cell_type": "code",
   "execution_count": 8,
   "metadata": {},
   "outputs": [
    {
     "data": {
      "text/html": [
       "<div>\n",
       "<style scoped>\n",
       "    .dataframe tbody tr th:only-of-type {\n",
       "        vertical-align: middle;\n",
       "    }\n",
       "\n",
       "    .dataframe tbody tr th {\n",
       "        vertical-align: top;\n",
       "    }\n",
       "\n",
       "    .dataframe thead th {\n",
       "        text-align: right;\n",
       "    }\n",
       "</style>\n",
       "<table border=\"1\" class=\"dataframe\">\n",
       "  <thead>\n",
       "    <tr style=\"text-align: right;\">\n",
       "      <th></th>\n",
       "      <th>Open Price</th>\n",
       "      <th>Close Price</th>\n",
       "      <th>High Price</th>\n",
       "      <th>Low Price</th>\n",
       "      <th>Volume</th>\n",
       "    </tr>\n",
       "    <tr>\n",
       "      <th>Date</th>\n",
       "      <th></th>\n",
       "      <th></th>\n",
       "      <th></th>\n",
       "      <th></th>\n",
       "      <th></th>\n",
       "    </tr>\n",
       "  </thead>\n",
       "  <tbody>\n",
       "    <tr>\n",
       "      <th>02-Jan-2018</th>\n",
       "      <td>2683.73</td>\n",
       "      <td>2695.81</td>\n",
       "      <td>2695.89</td>\n",
       "      <td>2682.36</td>\n",
       "      <td>1846463232</td>\n",
       "    </tr>\n",
       "    <tr>\n",
       "      <th>03-Jan-2018</th>\n",
       "      <td>2697.85</td>\n",
       "      <td>2713.06</td>\n",
       "      <td>2714.37</td>\n",
       "      <td>2697.77</td>\n",
       "      <td>2090595328</td>\n",
       "    </tr>\n",
       "    <tr>\n",
       "      <th>04-Jan-2018</th>\n",
       "      <td>2719.31</td>\n",
       "      <td>2723.99</td>\n",
       "      <td>2729.29</td>\n",
       "      <td>2719.07</td>\n",
       "      <td>2100767744</td>\n",
       "    </tr>\n",
       "    <tr>\n",
       "      <th>05-Jan-2018</th>\n",
       "      <td>2731.33</td>\n",
       "      <td>2743.15</td>\n",
       "      <td>2743.45</td>\n",
       "      <td>2727.92</td>\n",
       "      <td>1918869120</td>\n",
       "    </tr>\n",
       "    <tr>\n",
       "      <th>08-Jan-2018</th>\n",
       "      <td>2742.67</td>\n",
       "      <td>2747.71</td>\n",
       "      <td>2748.51</td>\n",
       "      <td>2737.60</td>\n",
       "      <td>1894823936</td>\n",
       "    </tr>\n",
       "  </tbody>\n",
       "</table>\n",
       "</div>"
      ],
      "text/plain": [
       "             Open Price  Close Price  High Price  Low Price      Volume\n",
       "Date                                                                   \n",
       "02-Jan-2018     2683.73      2695.81     2695.89    2682.36  1846463232\n",
       "03-Jan-2018     2697.85      2713.06     2714.37    2697.77  2090595328\n",
       "04-Jan-2018     2719.31      2723.99     2729.29    2719.07  2100767744\n",
       "05-Jan-2018     2731.33      2743.15     2743.45    2727.92  1918869120\n",
       "08-Jan-2018     2742.67      2747.71     2748.51    2737.60  1894823936"
      ]
     },
     "execution_count": 8,
     "metadata": {},
     "output_type": "execute_result"
    }
   ],
   "source": [
    "x_test.head()"
   ]
  },
  {
   "cell_type": "code",
   "execution_count": 9,
   "metadata": {},
   "outputs": [
    {
     "data": {
      "text/plain": [
       "{-1: 121, 1: 131}"
      ]
     },
     "execution_count": 9,
     "metadata": {},
     "output_type": "execute_result"
    }
   ],
   "source": [
    "unique, counts = np.unique(y_test, return_counts=True)\n",
    "dict(zip(unique, counts))"
   ]
  },
  {
   "cell_type": "code",
   "execution_count": 10,
   "metadata": {},
   "outputs": [
    {
     "name": "stderr",
     "output_type": "stream",
     "text": [
      "C:\\Users\\Mimori\\Anaconda3\\envs\\FDA\\lib\\site-packages\\sklearn\\linear_model\\logistic.py:433: FutureWarning: Default solver will be changed to 'lbfgs' in 0.22. Specify a solver to silence this warning.\n",
      "  FutureWarning)\n"
     ]
    }
   ],
   "source": [
    "# logistic regression\n",
    "lg_model = LogisticRegression()\n",
    "lg_model = lg_model.fit(x_train,y_train)"
   ]
  },
  {
   "attachments": {},
   "cell_type": "markdown",
   "metadata": {},
   "source": [
    "印出模型係數 model.coef_"
   ]
  },
  {
   "cell_type": "code",
   "execution_count": 11,
   "metadata": {},
   "outputs": [
    {
     "data": {
      "text/html": [
       "<div>\n",
       "<style scoped>\n",
       "    .dataframe tbody tr th:only-of-type {\n",
       "        vertical-align: middle;\n",
       "    }\n",
       "\n",
       "    .dataframe tbody tr th {\n",
       "        vertical-align: top;\n",
       "    }\n",
       "\n",
       "    .dataframe thead th {\n",
       "        text-align: right;\n",
       "    }\n",
       "</style>\n",
       "<table border=\"1\" class=\"dataframe\">\n",
       "  <thead>\n",
       "    <tr style=\"text-align: right;\">\n",
       "      <th></th>\n",
       "      <th>0</th>\n",
       "      <th>1</th>\n",
       "    </tr>\n",
       "  </thead>\n",
       "  <tbody>\n",
       "    <tr>\n",
       "      <th>0</th>\n",
       "      <td>Open Price</td>\n",
       "      <td>[3.0723787994412094e-17]</td>\n",
       "    </tr>\n",
       "    <tr>\n",
       "      <th>1</th>\n",
       "      <td>Close Price</td>\n",
       "      <td>[3.048806635293544e-17]</td>\n",
       "    </tr>\n",
       "    <tr>\n",
       "      <th>2</th>\n",
       "      <td>High Price</td>\n",
       "      <td>[3.075972091600277e-17]</td>\n",
       "    </tr>\n",
       "    <tr>\n",
       "      <th>3</th>\n",
       "      <td>Low Price</td>\n",
       "      <td>[3.0469745364168135e-17]</td>\n",
       "    </tr>\n",
       "    <tr>\n",
       "      <th>4</th>\n",
       "      <td>Volume</td>\n",
       "      <td>[5.558556099677488e-11]</td>\n",
       "    </tr>\n",
       "  </tbody>\n",
       "</table>\n",
       "</div>"
      ],
      "text/plain": [
       "             0                         1\n",
       "0   Open Price  [3.0723787994412094e-17]\n",
       "1  Close Price   [3.048806635293544e-17]\n",
       "2   High Price   [3.075972091600277e-17]\n",
       "3    Low Price  [3.0469745364168135e-17]\n",
       "4       Volume   [5.558556099677488e-11]"
      ]
     },
     "execution_count": 11,
     "metadata": {},
     "output_type": "execute_result"
    }
   ],
   "source": [
    "pd.DataFrame(zip(x_train.columns, np.transpose(lg_model.coef_)))"
   ]
  },
  {
   "cell_type": "markdown",
   "metadata": {},
   "source": [
    "利用predict_proba函式來計算丟進x_test之後得到的y=1或y=-1的機率\n",
    "印出前20個來看一下結果\n",
    "\n",
    "右邊的機率代表的是預測y=1的機率\n",
    "左邊的機率代表的是預測y=-1的機率"
   ]
  },
  {
   "cell_type": "code",
   "execution_count": 12,
   "metadata": {},
   "outputs": [
    {
     "name": "stdout",
     "output_type": "stream",
     "text": [
      "[[0.47436333 0.52563667]\n",
      " [0.47098092 0.52901908]\n",
      " [0.47084004 0.52915996]\n",
      " [0.4733599  0.5266401 ]\n",
      " [0.4736931  0.5263069 ]\n",
      " [0.47282789 0.52717211]\n",
      " [0.47155887 0.52844113]\n",
      " [0.47253239 0.52746761]\n",
      " [0.47073402 0.52926598]\n",
      " [0.46487043 0.53512957]\n",
      " [0.4672659  0.5327341 ]\n",
      " [0.46934991 0.53065009]\n",
      " [0.46704718 0.53295282]\n",
      " [0.47101436 0.52898564]\n",
      " [0.47015851 0.52984149]\n",
      " [0.46682009 0.53317991]\n",
      " [0.46821626 0.53178374]\n",
      " [0.47003176 0.52996824]\n",
      " [0.47103893 0.52896107]\n",
      " [0.46753038 0.53246962]]\n"
     ]
    }
   ],
   "source": [
    "probability = lg_model.predict_proba(x_test)\n",
    "print(probability[:20])"
   ]
  },
  {
   "cell_type": "code",
   "execution_count": 13,
   "metadata": {},
   "outputs": [
    {
     "name": "stdout",
     "output_type": "stream",
     "text": [
      "[1 1 1 1 1 1 1 1 1 1 1 1 1 1 1 1 1 1 1 1]\n"
     ]
    }
   ],
   "source": [
    "predicted = lg_model.predict(x_test)\n",
    "print(predicted[:20])"
   ]
  },
  {
   "attachments": {
    "image.png": {
     "image/png": "[encoded data removed]"
    }
   },
   "cell_type": "markdown",
   "metadata": {},
   "source": [
    "利用函式畫出confusion matrix，可以看到實際是-1，但預測是1的有121個、實際是1，預測也是1的有131個\n",
    "![image.png](attachment:image.png)"
   ]
  },
  {
   "cell_type": "code",
   "execution_count": 14,
   "metadata": {},
   "outputs": [
    {
     "name": "stdout",
     "output_type": "stream",
     "text": [
      "[[  0 121]\n",
      " [  0 131]]\n"
     ]
    }
   ],
   "source": [
    "print(metrics.confusion_matrix(y_test, predicted))"
   ]
  },
  {
   "cell_type": "markdown",
   "metadata": {},
   "source": [
    "利用測試資料幫模型算出來的預測準確率大約是0.52"
   ]
  },
  {
   "cell_type": "code",
   "execution_count": 15,
   "metadata": {},
   "outputs": [
    {
     "name": "stdout",
     "output_type": "stream",
     "text": [
      "0.5198412698412699\n"
     ]
    }
   ],
   "source": [
    "print(lg_model.score(x_test, y_test))"
   ]
  },
  {
   "cell_type": "markdown",
   "metadata": {},
   "source": [
    "讓模型根據前面預測出來的機率來猜測試資料的前20筆資料，可以看到因為猜測是1的機率都比較高，所以最後模型都猜1\n",
    "\n",
    "但把全部都印出來看以後發現，模型的每一個預測都是1，只能說看來我們這一次的模型訓練並沒有成功。\n",
    "\n",
    "logistic regression適合且只能處理二元的分類問題，所以在這一個條件上，是符合我們的要求的。但logistic regression處理的問題必須要是線性可分的問題，我猜可能是我們這次作業的資料不太算是線性可分的資料，所以才沒有辦法利用logistic regression做到效果好的分類。\n",
    "再來試試看SVM。"
   ]
  },
  {
   "cell_type": "markdown",
   "metadata": {},
   "source": [
    "## SVM"
   ]
  },
  {
   "cell_type": "markdown",
   "metadata": {},
   "source": [
    "記得是是看x_2 = preprocessing.scale(x_train)"
   ]
  },
  {
   "cell_type": "markdown",
   "metadata": {},
   "source": [
    "svm有一些不一樣的kernel function，用來幫助資料轉換到高維度的面上。不同的kernel function有不同的使用時機，這裡選擇了三種來做測試，分別是polynomial, sigmoid, rdf。另外常用的kernel還有linear，但因為我們這次的資料好像不太適合，試了之後發現跑了很久還是跑不完，就放棄沒有拿來用了。\n",
    "\n",
    "kernel的使用時機 : \n",
    "\n",
    "\n",
    "linear : 適合linear separable dataset，效果與Logistic\n",
    "Regression類似，與其它SVM kernel比較起來執\n",
    "行速度較快。\n",
    "\n",
    "polynomial : 適合non-linear separable dataset\n",
    "\n",
    "sigmoid : 類似Logistic Regression的二元分類\n",
    "\n",
    "rbf : 沒有指定的話就預設是rbf，適合non-linear separable dataset\n"
   ]
  },
  {
   "cell_type": "code",
   "execution_count": 30,
   "metadata": {},
   "outputs": [
    {
     "name": "stdout",
     "output_type": "stream",
     "text": [
      "[[3.0000009e-14 1.0000000e+00]\n",
      " [3.0000009e-14 1.0000000e+00]\n",
      " [3.0000009e-14 1.0000000e+00]\n",
      " [3.0000009e-14 1.0000000e+00]\n",
      " [3.0000009e-14 1.0000000e+00]\n",
      " [3.0000009e-14 1.0000000e+00]\n",
      " [3.0000009e-14 1.0000000e+00]\n",
      " [3.0000009e-14 1.0000000e+00]\n",
      " [3.0000009e-14 1.0000000e+00]\n",
      " [3.0000009e-14 1.0000000e+00]\n",
      " [3.0000009e-14 1.0000000e+00]\n",
      " [3.0000009e-14 1.0000000e+00]\n",
      " [3.0000009e-14 1.0000000e+00]\n",
      " [3.0000009e-14 1.0000000e+00]\n",
      " [3.0000009e-14 1.0000000e+00]\n",
      " [3.0000009e-14 1.0000000e+00]\n",
      " [3.0000009e-14 1.0000000e+00]\n",
      " [3.0000009e-14 1.0000000e+00]\n",
      " [3.0000009e-14 1.0000000e+00]\n",
      " [3.0000009e-14 1.0000000e+00]]\n",
      "0.5198412698412699\n"
     ]
    },
    {
     "name": "stderr",
     "output_type": "stream",
     "text": [
      "C:\\Users\\Mimori\\Anaconda3\\envs\\FDA\\lib\\site-packages\\sklearn\\svm\\base.py:196: FutureWarning: The default value of gamma will change from 'auto' to 'scale' in version 0.22 to account better for unscaled features. Set gamma explicitly to 'auto' or 'scale' to avoid this warning.\n",
      "  \"avoid this warning.\", FutureWarning)\n"
     ]
    }
   ],
   "source": [
    "# poly\n",
    "svm_model_p = svm.SVC(C = 0.05,kernel='poly', probability=True)\n",
    "svm_model_p.fit(x_train, y_train)\n",
    "probability = svm_model_p.predict_proba(x_test)\n",
    "print(probability[:20])\n",
    "print(lg_model.score(x_test, y_test))"
   ]
  },
  {
   "cell_type": "code",
   "execution_count": 31,
   "metadata": {},
   "outputs": [
    {
     "name": "stderr",
     "output_type": "stream",
     "text": [
      "C:\\Users\\Mimori\\Anaconda3\\envs\\FDA\\lib\\site-packages\\sklearn\\svm\\base.py:196: FutureWarning: The default value of gamma will change from 'auto' to 'scale' in version 0.22 to account better for unscaled features. Set gamma explicitly to 'auto' or 'scale' to avoid this warning.\n",
      "  \"avoid this warning.\", FutureWarning)\n"
     ]
    },
    {
     "name": "stdout",
     "output_type": "stream",
     "text": [
      "[[0.45402548 0.54597452]\n",
      " [0.45402548 0.54597452]\n",
      " [0.45402548 0.54597452]\n",
      " [0.45402548 0.54597452]\n",
      " [0.45402548 0.54597452]\n",
      " [0.45402548 0.54597452]\n",
      " [0.45402548 0.54597452]\n",
      " [0.45402548 0.54597452]\n",
      " [0.45402548 0.54597452]\n",
      " [0.45402548 0.54597452]\n",
      " [0.45402548 0.54597452]\n",
      " [0.45402548 0.54597452]\n",
      " [0.45402548 0.54597452]\n",
      " [0.45402548 0.54597452]\n",
      " [0.45402548 0.54597452]\n",
      " [0.45402548 0.54597452]\n",
      " [0.45402548 0.54597452]\n",
      " [0.45402548 0.54597452]\n",
      " [0.45402548 0.54597452]\n",
      " [0.45402548 0.54597452]]\n",
      "0.5198412698412699\n"
     ]
    }
   ],
   "source": [
    "# sigmoid\n",
    "svm_model_s = svm.SVC(C = 0.05, kernel='sigmoid', probability=True)\n",
    "svm_model_s.fit(x_train, y_train)\n",
    "probability = svm_model_s.predict_proba(x_test)\n",
    "print(probability[:20])\n",
    "print(lg_model.score(x_test, y_test))"
   ]
  },
  {
   "cell_type": "code",
   "execution_count": 32,
   "metadata": {},
   "outputs": [
    {
     "name": "stderr",
     "output_type": "stream",
     "text": [
      "C:\\Users\\Mimori\\Anaconda3\\envs\\FDA\\lib\\site-packages\\sklearn\\svm\\base.py:196: FutureWarning: The default value of gamma will change from 'auto' to 'scale' in version 0.22 to account better for unscaled features. Set gamma explicitly to 'auto' or 'scale' to avoid this warning.\n",
      "  \"avoid this warning.\", FutureWarning)\n"
     ]
    },
    {
     "name": "stdout",
     "output_type": "stream",
     "text": [
      "[[0.45460192 0.54539808]\n",
      " [0.45460192 0.54539808]\n",
      " [0.45460192 0.54539808]\n",
      " [0.45460192 0.54539808]\n",
      " [0.45460192 0.54539808]\n",
      " [0.45460192 0.54539808]\n",
      " [0.45460192 0.54539808]\n",
      " [0.45460192 0.54539808]\n",
      " [0.45460192 0.54539808]\n",
      " [0.45460192 0.54539808]\n",
      " [0.45460192 0.54539808]\n",
      " [0.45460192 0.54539808]\n",
      " [0.45460192 0.54539808]\n",
      " [0.45460192 0.54539808]\n",
      " [0.45460192 0.54539808]\n",
      " [0.45460192 0.54539808]\n",
      " [0.45460192 0.54539808]\n",
      " [0.45460192 0.54539808]\n",
      " [0.45460192 0.54539808]\n",
      " [0.45460192 0.54539808]]\n",
      "0.5198412698412699\n"
     ]
    }
   ],
   "source": [
    "# rbf\n",
    "svm_model_r = svm.SVC(C = 0.05, kernel='rbf', probability=True)\n",
    "svm_model_r.fit(x_train, y_train)\n",
    "probability = svm_model_r.predict_proba(x_test)\n",
    "print(probability[:20])\n",
    "print(lg_model.score(x_test, y_test))"
   ]
  },
  {
   "cell_type": "markdown",
   "metadata": {},
   "source": [
    "可以看到一開始測試的polynomial效果最極端，猜測是1的機率幾乎等於1。另外兩個的機率看起來還算比較正常一點。但是每一筆資料的機率算出來都是一樣的，也就是這個模型基本上不能用。從這三個kernel跑出來的結果來看，效果都不太理想。猜測可能的原因有可能是因為參數的調整不夠完善，才導致這樣的結果。但是SVM其中一個重要且經常使用的參數就是kernel，如果試過這些kernel都沒有辦法跑出好的結果，可能就是這樣的資料並不適合svm，又或者這些資料本身就沒有辦法用來預測我們設置的target，也就是特徵不夠多或不夠重要。\n",
    "\n",
    "最後是neural network"
   ]
  },
  {
   "cell_type": "markdown",
   "metadata": {},
   "source": [
    "## neural network"
   ]
  },
  {
   "cell_type": "code",
   "execution_count": null,
   "metadata": {},
   "outputs": [],
   "source": []
  }
 ],
 "metadata": {
  "kernelspec": {
   "display_name": "Python 3",
   "language": "python",
   "name": "python3"
  },
  "language_info": {
   "codemirror_mode": {
    "name": "ipython",
    "version": 3
   },
   "file_extension": ".py",
   "mimetype": "text/x-python",
   "name": "python",
   "nbconvert_exporter": "python",
   "pygments_lexer": "ipython3",
   "version": "3.6.8"
  }
 },
 "nbformat": 4,
 "nbformat_minor": 2
}
